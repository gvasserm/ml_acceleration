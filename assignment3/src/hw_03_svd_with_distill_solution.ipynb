{
 "cells": [
  {
   "cell_type": "markdown",
   "metadata": {
    "id": "dSniQYqnwccX"
   },
   "source": [
    "# Матричные разложения [SegFormer](https://huggingface.co/docs/transformers/model_doc/segformer) (50 баллов)\n",
    "\n",
    "Будем сжимать [SegFormer](https://huggingface.co/docs/transformers/model_doc/segformer) для [задачи сегментации людей](https://www.kaggle.com/datasets/laurentmih/aisegmentcom-matting-human-datasets).\n",
    "\n",
    "## Задания\n",
    "Задание 1. Напишите реализацию SVD layer (35 Баллов)\n",
    "\n",
    "Задание 2. Для Нескольких слоев proj в Decoder Head (5 Баллов):\n",
    "    -  Произвидите замену\n",
    "    -  Заморозте градиенты замененого слоя\n",
    "    -  Сделате fine-tuning процедуру\n",
    "    -  Разморозьте градиенты. Потренеруйте опять. Насколько улучшилось качество?\n",
    "    -  Какие при этом получились accuracy и iou?\n",
    "Задание 3. Попробуйте сжать все слои сразу (5 баллов)\n",
    "\n",
    "Задание 4. Попробуйте разные ранги. Покажите результрующие график или таблицу в accuracy и iou (5 баллов). В свободной форме. Если с перебором рангов не задалось или у вас и так получися хороший результат, и вы можете обосновать выбор ранга/степени сжатия/l cингулярных чисел  - опишите какая схема обучения (layer-wise, single shot etc.) оказалось эффективнее. Какой подход вы бы предпочтли в продакшене? В целом не будет каких-то penalty за final accuracy/iou - в целом хотелось бы прочитать мысли уважаемых студентов."
   ]
  },
  {
   "cell_type": "markdown",
   "metadata": {
    "id": "2vdpE2jBwfLT"
   },
   "source": [
    "## Скачаем вспомогательный код и чекпоинт бейзлайна (модели-учителя)"
   ]
  },
  {
   "cell_type": "code",
   "execution_count": null,
   "metadata": {
    "colab": {
     "base_uri": "https://localhost:8080/"
    },
    "id": "vVaGtWUgwnpZ",
    "outputId": "886983a8-928d-47b4-f0ee-1e2f8aa09e17",
    "scrolled": true
   },
   "outputs": [],
   "source": [
    "!wget -O hw_files_3.zip 'https://www.dropbox.com/scl/fi/9h0jmaxspgm755uqjmwev/hw_files_3.zip?rlkey=kytgclnvuixzoa6gys7wufpj1&dl=0'\n",
    "!unzip -o hw_files_3.zip"
   ]
  },
  {
   "cell_type": "markdown",
   "metadata": {
    "id": "dDj8ZApIDnVJ"
   },
   "source": [
    "### Скачаем датасет"
   ]
  },
  {
   "cell_type": "markdown",
   "metadata": {
    "id": "vKqsIoAaDsyg",
    "outputId": "26b7a13d-736d-403e-ab0e-abf08148e24f"
   },
   "source": [
    "Датасет находится по ссылке https://drive.google.com/file/d/1YOEDzZvhLb2DS1Yn7p7MSs41ou3ZBXUq/view?usp=sharing\n",
    "\n",
    "Нужно его скачать и распаковать в папке, в которой находится ноутбук либо скачать его на гугл диск, и далее подключиться к гугл диску с помношью команд ниже"
   ]
  },
  {
   "cell_type": "markdown",
   "metadata": {
    "id": "iDR-qEWJwccb"
   },
   "source": [
    "### Установим библиотеки"
   ]
  },
  {
   "cell_type": "code",
   "execution_count": null,
   "metadata": {
    "id": "OwdgHUS1wccb"
   },
   "outputs": [],
   "source": [
    "# %%capture\n",
    "# !pip install torch transformers datasets tensorboard pillow\n",
    "# !pip install tensorly\n",
    "# !pip install evaluate"
   ]
  },
  {
   "cell_type": "code",
   "execution_count": null,
   "metadata": {
    "id": "QjHHo_eLpYMa"
   },
   "outputs": [],
   "source": [
    "import os\n",
    "\n",
    "import typing as tp\n",
    "import torch\n",
    "import numpy as np\n",
    "from copy import deepcopy\n",
    "from datasets import load_metric\n",
    "from torch import nn\n",
    "from torch.nn import functional as F\n",
    "from torch.utils.tensorboard.writer import SummaryWriter\n",
    "from tqdm.auto import tqdm\n",
    "device = torch.device('cuda' if torch.cuda.is_available() else 'cpu')\n",
    "# utils у нас появились при скачивании вспомогательного кода. При желании можно в них провалиться-поизучать\n",
    "from utils.data import init_dataloaders\n",
    "from utils.model import evaluate_model\n",
    "from utils.model import init_model_with_pretrain\n",
    "\n",
    "from torch import nn\n",
    "from transformers.models.segformer.modeling_segformer import SegformerLayer"
   ]
  },
  {
   "cell_type": "code",
   "execution_count": null,
   "metadata": {
    "id": "aXKfFbGmwccf"
   },
   "outputs": [],
   "source": [
    "save_dir = 'runs/svd'"
   ]
  },
  {
   "cell_type": "code",
   "execution_count": null,
   "metadata": {
    "id": "0wXrcr--wccg"
   },
   "outputs": [],
   "source": [
    "tb_writer = SummaryWriter(save_dir)"
   ]
  },
  {
   "cell_type": "code",
   "execution_count": null,
   "metadata": {
    "id": "B8GpVF2Dpkvs"
   },
   "outputs": [],
   "source": [
    "# маппинг названия классов и индексов\n",
    "id2label = {\n",
    "    0: \"background\",\n",
    "    1: \"human\",\n",
    "}\n",
    "label2id = {v: k for k, v in id2label.items()}"
   ]
  },
  {
   "cell_type": "markdown",
   "metadata": {
    "id": "_5H4Q1OK282K"
   },
   "source": [
    "Создадим лоадеры:"
   ]
  },
  {
   "cell_type": "code",
   "execution_count": null,
   "metadata": {
    "colab": {
     "base_uri": "https://localhost:8080/"
    },
    "id": "DezHZJUSqIL_",
    "outputId": "5f9750d5-4d41-4532-aa98-6b99582bf82d"
   },
   "outputs": [],
   "source": [
    "train_dataloader, valid_dataloader = init_dataloaders(\n",
    "    root_dir=\".\",\n",
    "    batch_size=8,\n",
    "    num_workers=2,\n",
    ")"
   ]
  },
  {
   "cell_type": "code",
   "execution_count": null,
   "metadata": {
    "colab": {
     "base_uri": "https://localhost:8080/"
    },
    "id": "d8uj9oxwtImw",
    "outputId": "52316125-4c10-4d70-964e-f725cef08188"
   },
   "outputs": [],
   "source": [
    "len(train_dataloader),len(valid_dataloader)"
   ]
  },
  {
   "cell_type": "markdown",
   "metadata": {
    "id": "Kn3RmOwQtI7W"
   },
   "source": [
    "# SVD layer\n",
    "\n",
    "Давайте напишем SVD layer и функции замены слоев (задание 1)"
   ]
  },
  {
   "cell_type": "code",
   "execution_count": null,
   "metadata": {
    "id": "mont0ilRtjtI"
   },
   "outputs": [],
   "source": [
    "def truncated_svd(W, l, transpose=False):\n",
    "    \"\"\"Compress the weight matrix W of an inner product (fully connected) layer\n",
    "    using truncated SVD.\n",
    "    Parameters:\n",
    "    W: N x M weights matrix\n",
    "    l: number of singular values to retain\n",
    "    Returns:\n",
    "    Ul, L: matrices such that W \\approx Ul*L\n",
    "    \"\"\"\n",
    "    # посчитаем SVD\n",
    "    U, s, V = torch.svd(W, some=True)\n",
    "    #\n",
    "    Ul = U[:, :l]\n",
    "    sl = s[:l]\n",
    "    V = V.t()\n",
    "    Vl = V[:l, :]\n",
    "    # Обьеденим  Sigma_l and V_l\n",
    "    SV = torch.mm(torch.diag(sl), Vl)\n",
    "    \n",
    "    if transpose: # Транспонируем\n",
    "        Ul, SV = Ul.T, SV.T\n",
    "        \n",
    "    return Ul, SV\n",
    "\n",
    "\n",
    "class TruncatedSVDLayer(nn.Module):\n",
    "    def __init__(self, replaced_gemm, device, preserve_ratio = 0.5, rank = None, transpose = False):\n",
    "        super().__init__()\n",
    "        self.replaced_gemm = replaced_gemm\n",
    "        self.W = self.replaced_gemm.weight\n",
    "        self.b = self.replaced_gemm.bias\n",
    "        self.transpose = transpose\n",
    "\n",
    "        print(\"W = {}\".format(self.W.shape))\n",
    "        if rank is None:\n",
    "            rank = int(preserve_ratio * self.W.size(0))\n",
    "        # считаем U and SV\n",
    "        self.U, self.SV = truncated_svd(self.W.data, rank,transpose = self.transpose)\n",
    "        print(\"U = {}\".format(self.U.shape))\n",
    "        # Cоздаем слой иницализорованный U - нужного размера\n",
    "        self.fc_u = nn.Linear(self.U.size(1), self.U.size(0)).to(device)\n",
    "        self.fc_u.weight.data = self.U\n",
    "\n",
    "        print(\"SV = {}\".format(self.SV.shape))\n",
    "        # Cоздаем слой иницализорованный SV - нужного размера\n",
    "        self.fc_sv = nn.Linear(self.SV.size(1), self.SV.size(0)).to(device)\n",
    "        self.fc_sv.weight.data = self.SV\n",
    "        # забываем старый слой\n",
    "        self.W = None\n",
    "        self.replaced_gemm = None\n",
    "\n",
    "    def forward(self, x):\n",
    "        x = self.fc_sv.forward(x)\n",
    "        x = self.fc_u.forward(x)\n",
    "\n",
    "        return x + self.b\n",
    "\n",
    "def create_small_network(\n",
    "    model,\n",
    "    decode_head_layer_id=-1,\n",
    "    preserve_ratio=0.3,\n",
    "    device='cuda',\n",
    "    transpose=False,\n",
    "):\n",
    "    \"\"\"Выбрали слой,  сжали его и прозвели замену\"\"\"\n",
    "    proj = model.decode_head.linear_c[decode_head_layer_id].proj\n",
    "    compressed = TruncatedSVDLayer(\n",
    "        proj,\n",
    "        device,\n",
    "        preserve_ratio,\n",
    "        transpose=transpose,\n",
    "    )\n",
    "    model.decode_head.linear_c[decode_head_layer_id].proj = compressed\n",
    "    return model"
   ]
  },
  {
   "cell_type": "code",
   "execution_count": null,
   "metadata": {
    "id": "dQUY7-ajWjfJ"
   },
   "outputs": [],
   "source": [
    "# вспомогаетальные функции - что они делают понятно из названия?\n",
    "def get_n_params(model):\n",
    "    params = 0\n",
    "    for param in model.parameters():\n",
    "        if param is not None:\n",
    "            params += param.nonzero().size(0)\n",
    "    return params\n",
    "\n",
    "def disable_old_layers_grads(model, decode_head_layer_id = -1):\n",
    "    model.decode_head.linear_c[decode_head_layer_id].requires_grad = False\n",
    "\n",
    "def enable_all_grads(model):\n",
    "    for name,param in model.named_parameters():\n",
    "        param.requires_grad = True"
   ]
  },
  {
   "cell_type": "markdown",
   "metadata": {
    "id": "kVu73sbywccj"
   },
   "source": [
    "Создадим модель и загрузим в нее чекпоинт с прошлых домашних работ:\n",
    "- и проверим как влияет замена одного SVD слоя"
   ]
  },
  {
   "cell_type": "markdown",
   "metadata": {
    "id": "fwC1ywfxhGX6"
   },
   "source": []
  },
  {
   "cell_type": "code",
   "execution_count": null,
   "metadata": {
    "colab": {
     "base_uri": "https://localhost:8080/",
     "height": 287,
     "referenced_widgets": [
      "0057b8e5f94148648fd5b2f79b0a14d2",
      "c4a4ebcafb4445e69699c80fda3d042f",
      "364baf43c9f74ef1aff4380f200d7f75",
      "ed6403abc0e44cddb3b715a464ebba31",
      "acf72b4c262949f19f636282f299c6a7",
      "083d20c7ca704c649986d105eecfb4de",
      "187d44b0bbc8451d970fdd940761da78",
      "a60b080d360a4cecbff98bdbc689a20f",
      "37f8c231fc0448a4b47e136d5851fdf5",
      "86998d7a122d43068f220d9f1ea38bcb",
      "3c12a21a8a924ec8a4de90db1f322fa6",
      "f1a270ffb4144b1a9cb13b856d9d0488",
      "d514e4740da7406ea7d8c574b9fc2057",
      "bcfb43b07e14401b9457cc479e092e1e",
      "129bf11b6b3144239183765f93d61d10",
      "59cfee55bee349418415f62315e61bc2",
      "71585bba40a34e0384a8337ccc0f8955",
      "28896b252b184bb7bd130ef9dd8947c3",
      "bf08f24801644ca3813068bf930e3647",
      "8337e093479d4c36a62f784330a7ca42",
      "02556006a8f04e068bf45a2f9320f48e",
      "5909d133584f49cc9a75452e44995961"
     ]
    },
    "id": "f9cYusOhwcck",
    "outputId": "6d5043cb-e298-44a4-a232-6bbc9300c6f5"
   },
   "outputs": [],
   "source": [
    "model = init_model_with_pretrain(label2id=label2id, id2label=id2label, pretrain_path='runs/ckpt_4.pth')"
   ]
  },
  {
   "cell_type": "code",
   "execution_count": null,
   "metadata": {
    "colab": {
     "base_uri": "https://localhost:8080/",
     "height": 218,
     "referenced_widgets": [
      "60bcce6ea9004aab97a68d2e01717dc4",
      "d1ccb9b2492847148c6691e236975eaf",
      "87f39d5acd5e4805ba4fc0e01a2031d9",
      "1bedcd4933234b2899b0d73c0026a9ad",
      "034f7173d54c4b2cb0ef97ce322caf83",
      "bfcf06caab064f989e35ba5ddef0707b",
      "22ac42a5295f4288930f4cb12e743a35",
      "f22c6aac10df42e3bbc1ccb6a60a3d2f",
      "e5efd9323a09448e9c9f79e29a9e60ca",
      "2e6f3827499e4edaa8f98d438a67f751",
      "11d576791fb5499aaba595281d55c3f6"
     ]
    },
    "id": "RBFZ4REuwccl",
    "outputId": "4dcc2115-fa35-4ab0-8b0e-5f561a2d3de1"
   },
   "outputs": [],
   "source": [
    "full_metrics = evaluate_model(model, valid_dataloader, id2label)"
   ]
  },
  {
   "cell_type": "code",
   "execution_count": null,
   "metadata": {
    "colab": {
     "base_uri": "https://localhost:8080/"
    },
    "id": "gQJxdmRlwccp",
    "outputId": "7ffccfce-6f3a-4d76-c00c-731b87abe40c"
   },
   "outputs": [],
   "source": [
    "decomposed_model = create_small_network(deepcopy(model))"
   ]
  },
  {
   "cell_type": "code",
   "execution_count": null,
   "metadata": {
    "colab": {
     "base_uri": "https://localhost:8080/"
    },
    "id": "XnF-e40bwccp",
    "outputId": "f919189b-8c73-458c-ef29-502cf0f89e80"
   },
   "outputs": [],
   "source": [
    "decomposed_metrics = evaluate_model(decomposed_model, valid_dataloader, id2label)"
   ]
  },
  {
   "cell_type": "code",
   "execution_count": null,
   "metadata": {
    "colab": {
     "base_uri": "https://localhost:8080/"
    },
    "id": "ZJzH9-udYAtk",
    "outputId": "e8329928-5ef4-4ef3-882b-999de61d5c6b"
   },
   "outputs": [],
   "source": [
    "# дававйте проверим iou drop и как сократилось число параметров\n",
    "(full_metrics['mean_iou']-decomposed_metrics['mean_iou'],\n",
    "get_n_params(decomposed_model)/get_n_params(model))"
   ]
  },
  {
   "cell_type": "code",
   "execution_count": null,
   "metadata": {
    "colab": {
     "base_uri": "https://localhost:8080/"
    },
    "id": "LBr6xmczCAxm",
    "outputId": "e13fa524-1010-41d8-ba08-437c9b7e004a"
   },
   "outputs": [],
   "source": [
    "decomposed_model = deepcopy(model) # возьмем не сжатую модель\n",
    "for i in [-1,-2,-3,-4]: #\n",
    "    # cжимаем все слои сразу\n",
    "    decomposed_model = create_small_network(deepcopy(decomposed_model),decode_head_layer_id=i,transpose=False)"
   ]
  },
  {
   "cell_type": "code",
   "execution_count": null,
   "metadata": {
    "colab": {
     "base_uri": "https://localhost:8080/"
    },
    "id": "zaerxw6uDRMn",
    "outputId": "7aff6cbf-c19c-4267-e319-f4360a65753e"
   },
   "outputs": [],
   "source": [
    "decomposed_model.decode_head"
   ]
  },
  {
   "cell_type": "code",
   "execution_count": null,
   "metadata": {
    "colab": {
     "base_uri": "https://localhost:8080/"
    },
    "id": "u4MZvJYADDai",
    "outputId": "564e99a6-30bd-4a69-e604-0056161a5e61"
   },
   "outputs": [],
   "source": [
    "decomposed_metrics = evaluate_model(decomposed_model, valid_dataloader, id2label)"
   ]
  },
  {
   "cell_type": "code",
   "execution_count": null,
   "metadata": {
    "colab": {
     "base_uri": "https://localhost:8080/"
    },
    "id": "-zEQsJ9cDImU",
    "outputId": "3175d1ba-548d-4f35-ddb2-cfe92a3d4c3f"
   },
   "outputs": [],
   "source": [
    "# дававйте проверим iou drop и как сократилось число параметров\n",
    "(full_metrics['mean_iou']-decomposed_metrics['mean_iou'],\n",
    "get_n_params(decomposed_model)/get_n_params(model))"
   ]
  },
  {
   "cell_type": "markdown",
   "metadata": {
    "id": "KzLU9tZUwccp"
   },
   "source": [
    "## Train Loop"
   ]
  },
  {
   "cell_type": "code",
   "execution_count": null,
   "metadata": {
    "id": "vPahHGynwccq"
   },
   "outputs": [],
   "source": [
    "from dataclasses import dataclass\n",
    "from datasets import load_metric\n",
    "\n",
    "@dataclass\n",
    "class TrainParams:\n",
    "    n_epochs: int\n",
    "    lr: float\n",
    "    batch_size: int\n",
    "    n_workers: int\n",
    "    device: torch.device\n",
    "\n",
    "    loss_weight: float\n",
    "    last_layer_loss_weight: float\n",
    "    intermediate_attn_layers_weights: tp.Tuple[float, float, float, float]\n",
    "    intermediate_feat_layers_weights: tp.Tuple[float, float, float, float]\n",
    "    # возможно, в ваших экспериментах захотите добавить что-то ещё"
   ]
  },
  {
   "cell_type": "code",
   "execution_count": null,
   "metadata": {
    "id": "TFMkj8ODwccq"
   },
   "outputs": [],
   "source": [
    "train_params = TrainParams(\n",
    "    n_epochs=1,\n",
    "    lr=6e-5,\n",
    "    batch_size=8,\n",
    "    n_workers=2,\n",
    "    device=torch.device('cuda' if torch.cuda.is_available() else 'cpu'),\n",
    "    loss_weight=1,\n",
    "    last_layer_loss_weight=0.,\n",
    "    intermediate_attn_layers_weights=(0, 0, 0, 1.),\n",
    "    intermediate_feat_layers_weights=(0, 0, 0, 1.),\n",
    ")"
   ]
  },
  {
   "cell_type": "code",
   "execution_count": null,
   "metadata": {
    "id": "8WBKYlU8I4SR"
   },
   "outputs": [],
   "source": [
    "student_teacher_attention_mapping = {0: 0, 1: 1, 2: 2, 3: 3}\n",
    "\n",
    "mse_loss = nn.MSELoss()\n",
    "kl_loss = nn.KLDivLoss()\n",
    "\n",
    "def calc_last_layer_loss(student_logits, teacher_logits, weight):\n",
    "    return mse_loss(student_logits, teacher_logits) * weight\n",
    "\n",
    "def calc_intermediate_layers_attn_loss(student_attentions, teacher_attentions, weights, student_teacher_attention_mapping):\n",
    "    intermediate_kl_loss = 0\n",
    "    for i, (stud_attn_idx, teach_attn_idx) in enumerate(student_teacher_attention_mapping.items()):\n",
    "        intermediate_kl_loss += weights[i] * kl_loss(\n",
    "            input=torch.log(student_attentions[stud_attn_idx]),\n",
    "            target=teacher_attentions[teach_attn_idx],\n",
    "        )\n",
    "    return intermediate_kl_loss\n",
    "\n",
    "def calc_intermediate_layers_feat_loss(student_feats, teacher_feats, weights):\n",
    "    intermediate_mse_loss = 0.\n",
    "    for i in range(len(student_feats)):\n",
    "        intermediate_mse_loss += weights[i] * mse_loss(\n",
    "            input=student_feats[i],\n",
    "            target=teacher_feats[i],\n",
    "        )\n",
    "    return intermediate_mse_loss"
   ]
  },
  {
   "cell_type": "code",
   "execution_count": null,
   "metadata": {
    "id": "Q_T8ZKo0wccq"
   },
   "outputs": [],
   "source": [
    "def train(\n",
    "    teacher_model,\n",
    "    student_model,\n",
    "    train_params: TrainParams,\n",
    "    student_teacher_attention_mapping,\n",
    "):\n",
    "    metric = load_metric('mean_iou')\n",
    "    teacher_model.to(train_params.device)\n",
    "    student_model.to(train_params.device)\n",
    "\n",
    "    teacher_model.eval()\n",
    "\n",
    "    train_dataloader, valid_dataloader = init_dataloaders(\n",
    "        root_dir=\".\",\n",
    "        batch_size=train_params.batch_size,\n",
    "        num_workers=train_params.n_workers,\n",
    "    )\n",
    "\n",
    "    optimizer = torch.optim.AdamW(student_model.parameters(), lr=train_params.lr)\n",
    "    step = 0\n",
    "    for epoch in range(train_params.n_epochs):\n",
    "        pbar = tqdm(enumerate(train_dataloader), total=len(train_dataloader))\n",
    "        for idx, batch in pbar:\n",
    "            student_model.train()\n",
    "            # get the inputs;\n",
    "            pixel_values = batch['pixel_values'].to(train_params.device)\n",
    "            labels = batch['labels'].to(train_params.device)\n",
    "\n",
    "            optimizer.zero_grad()\n",
    "\n",
    "            # forward + backward + optimize\n",
    "            student_outputs = student_model(\n",
    "                pixel_values=pixel_values,\n",
    "                labels=labels,\n",
    "                output_attentions=True,\n",
    "                output_hidden_states=True,\n",
    "            )\n",
    "            loss, student_logits = student_outputs.loss, student_outputs.logits\n",
    "\n",
    "            # Чего это мы no_grad() при тренировке поставили?!\n",
    "            with torch.no_grad():\n",
    "                teacher_output = teacher_model(\n",
    "                    pixel_values=pixel_values,\n",
    "                    labels=labels,\n",
    "                    output_attentions=True,\n",
    "                    output_hidden_states=True,\n",
    "                )\n",
    "\n",
    "\n",
    "            last_layer_loss = calc_last_layer_loss(\n",
    "                student_logits,\n",
    "                teacher_output.logits,\n",
    "                train_params.last_layer_loss_weight,\n",
    "            )\n",
    "\n",
    "            student_attentions, teacher_attentions = student_outputs.attentions, teacher_output.attentions\n",
    "            student_hidden_states, teacher_hidden_states = student_outputs.hidden_states, teacher_output.hidden_states\n",
    "\n",
    "            intermediate_layer_att_loss = calc_intermediate_layers_attn_loss(\n",
    "                student_attentions,\n",
    "                teacher_attentions,\n",
    "                train_params.intermediate_attn_layers_weights,\n",
    "                student_teacher_attention_mapping,\n",
    "            )\n",
    "\n",
    "            intermediate_layer_feat_loss = calc_intermediate_layers_feat_loss(\n",
    "                student_hidden_states,\n",
    "                teacher_hidden_states,\n",
    "                train_params.intermediate_feat_layers_weights,\n",
    "            )\n",
    "\n",
    "            total_loss = loss* train_params.loss_weight + last_layer_loss\n",
    "            if intermediate_layer_att_loss is not None:\n",
    "                total_loss += intermediate_layer_att_loss\n",
    "\n",
    "            if intermediate_layer_feat_loss is not None:\n",
    "                total_loss += intermediate_layer_feat_loss\n",
    "\n",
    "            step += 1\n",
    "\n",
    "            total_loss.backward()\n",
    "            optimizer.step()\n",
    "            pbar.set_description(f'total loss: {total_loss.item():.3f}')\n",
    "\n",
    "            for loss_value, loss_name in (\n",
    "                (loss, 'loss'),\n",
    "                (total_loss, 'total_loss'),\n",
    "                (last_layer_loss, 'last_layer_loss'),\n",
    "                (intermediate_layer_att_loss, 'intermediate_layer_att_loss'),\n",
    "                (intermediate_layer_feat_loss, 'intermediate_layer_feat_loss'),\n",
    "            ):\n",
    "                if loss_value is None: # для выключенной дистилляции атеншенов\n",
    "                    continue\n",
    "                tb_writer.add_scalar(\n",
    "                    tag=loss_name,\n",
    "                    scalar_value=loss_value.item(),\n",
    "                    global_step=step,\n",
    "                )\n",
    "\n",
    "        #после модификаций модели обязательно сохраняйте ее целиком, чтобы подгрузить ее в случае чего\n",
    "        torch.save(\n",
    "            {\n",
    "                'model': student_model,\n",
    "                'state_dict': student_model.state_dict(),\n",
    "                'optimizer_state': optimizer.state_dict(),\n",
    "            },\n",
    "            f'{save_dir}/ckpt_{epoch}.pth',\n",
    "        )\n",
    "\n",
    "        eval_metrics = evaluate_model(student_model, valid_dataloader, id2label)\n",
    "\n",
    "        for metric_key, metric_value in eval_metrics.items():\n",
    "            if not isinstance(metric_value, float):\n",
    "                continue\n",
    "            tb_writer.add_scalar(\n",
    "                tag=f'eval_{metric_key}',\n",
    "                scalar_value=metric_value,\n",
    "                global_step=epoch,\n",
    "            )\n"
   ]
  },
  {
   "cell_type": "markdown",
   "metadata": {
    "id": "AnMfAMFGFSAn"
   },
   "source": [
    "# Layer-wise подход (Задание 2)\n",
    "Реализуейте последовательное сжатие слоев из decoder head. Cмотрите детальное описание в заголовке ноубука."
   ]
  },
  {
   "cell_type": "code",
   "execution_count": null,
   "metadata": {
    "colab": {
     "base_uri": "https://localhost:8080/"
    },
    "id": "_07bmDp6K0Ro",
    "outputId": "a209493f-4478-44ae-8a9a-739272cf4387"
   },
   "outputs": [],
   "source": [
    "# teacher from distill\n",
    "model = init_model_with_pretrain(\n",
    "    label2id=label2id,\n",
    "    id2label=id2label, \n",
    "    pretrain_path='runs/ckpt_4.pth',\n",
    ")\n"
   ]
  },
  {
   "cell_type": "code",
   "execution_count": null,
   "metadata": {
    "id": "ukUlJ8kIG3aT"
   },
   "outputs": [],
   "source": [
    "num_mlp_in_head = len(model.decode_head.linear_c) # посчитаем число proj слоев в голове-декодере"
   ]
  },
  {
   "cell_type": "code",
   "execution_count": null,
   "metadata": {
    "id": "IfTimYSdSZaa"
   },
   "outputs": [],
   "source": [
    "layer_ids = -(np.arange(num_mlp_in_head)+1) # возьмем их в обратном порядке - можете задать id в ручную обычным list"
   ]
  },
  {
   "cell_type": "code",
   "execution_count": null,
   "metadata": {
    "colab": {
     "base_uri": "https://localhost:8080/"
    },
    "id": "AprcpyvrSmaR",
    "outputId": "c14bbbe1-1591-4433-fd0f-42fda05f9f01"
   },
   "outputs": [],
   "source": [
    "layer_ids"
   ]
  },
  {
   "cell_type": "code",
   "execution_count": null,
   "metadata": {
    "colab": {
     "base_uri": "https://localhost:8080/",
     "height": 629,
     "referenced_widgets": [
      "aa9ecb5d899c41419ef94e7a9a4b1fc5",
      "c3a0fd8b00bd434b96628282f62893fe",
      "6eacdcd31bb541e8bcfb9a7dac8bdb2a",
      "3b7e1db583a44c9093960154d0646040",
      "9e13f968af4548508c619263f4355448",
      "e021005bd3ed47aabb24334360036e2d",
      "c059bbe6121445faad8a11411da1b90b",
      "2d3285e8a9784a03bdaeadd518041779",
      "027192575218462a89cf7017a74a7e88",
      "c55dd205e687406c99d98b951ff3238d",
      "8cd0f1b8072a4c829091ac238ddaa2b9"
     ]
    },
    "id": "5lyGG0f4YVD0",
    "outputId": "ed58949f-57ef-4163-8973-0f994ff3cfa5"
   },
   "outputs": [],
   "source": [
    "#student from distill\n",
    "decomposed_model = deepcopy(model) # возьмем не сжатую модель\n",
    "iou_drops = [] # для сохранения результата =\n",
    "compress_ratios = []\n",
    "for i in layer_ids: #\n",
    "    # cледуем шагам из задания 2\n",
    "    decomposed_model = create_small_network(\n",
    "        deepcopy(decomposed_model),\n",
    "        decode_head_layer_id=i,\n",
    "        transpose=False,\n",
    "    )\n",
    "    disable_old_layers_grads(decomposed_model, decode_head_layer_id=i)\n",
    "    train(\n",
    "        teacher_model=model,\n",
    "        student_model=decomposed_model,\n",
    "        train_params=train_params,\n",
    "        student_teacher_attention_mapping=student_teacher_attention_mapping,\n",
    "    )\n",
    "    enable_all_grads(decomposed_model)\n",
    "    train(\n",
    "        teacher_model=model,\n",
    "        student_model=decomposed_model,\n",
    "        train_params=train_params,\n",
    "        student_teacher_attention_mapping=student_teacher_attention_mapping,\n",
    "    )\n",
    "    # сохряняем результат\n",
    "    compress_ratios.append(get_n_params(decomposed_model)/get_n_params(model))\n",
    "    decomposed_metrics = evaluate_model(decomposed_model, valid_dataloader, id2label)\n",
    "    diff = full_metrics['mean_iou']-decomposed_metrics['mean_iou']\n",
    "    iou_drops.append(diff)"
   ]
  },
  {
   "cell_type": "code",
   "execution_count": null,
   "metadata": {
    "id": "pZb7y9hQMmwP"
   },
   "outputs": [],
   "source": [
    "decomposed_model.decode_head.linear_c # давайте напечатаем слои"
   ]
  },
  {
   "cell_type": "code",
   "execution_count": null,
   "metadata": {
    "id": "b38j_PlwJ6Z8"
   },
   "outputs": [],
   "source": [
    "decomposed_metrics = evaluate_model(decomposed_model, valid_dataloader, id2label) # финальная аккураси"
   ]
  },
  {
   "cell_type": "code",
   "execution_count": null,
   "metadata": {
    "id": "oyydhgWVTGzG"
   },
   "outputs": [],
   "source": [
    "full_metrics['mean_iou']-decomposed_metrics['mean_iou'] # какой получился iou drop?"
   ]
  },
  {
   "cell_type": "code",
   "execution_count": null,
   "metadata": {
    "id": "Rc-cx4-kYxDn"
   },
   "outputs": [],
   "source": [
    "get_n_params(decomposed_model)/get_n_params(model) #  оценим степень сжатия"
   ]
  },
  {
   "cell_type": "code",
   "execution_count": null,
   "metadata": {
    "id": "CBigpngaYxlW"
   },
   "outputs": [],
   "source": [
    "iou_drops"
   ]
  },
  {
   "cell_type": "code",
   "execution_count": null,
   "metadata": {
    "id": "Cs0WCZ6UYxvy"
   },
   "outputs": [],
   "source": [
    "compress_ratios"
   ]
  },
  {
   "cell_type": "markdown",
   "metadata": {
    "id": "Z5rvsuh8Imya"
   },
   "source": [
    "# Жмем все сразу (one shot) (задание 3)\n",
    "Попробуйте сжать все слои одновременно и прозвести finetuning по аналогии с заданием 2. Вам просто нужно минимально изменить цикл из прошлого задания. При желании попробуй сравнить данный подход с заморозкой градиентов и без"
   ]
  },
  {
   "cell_type": "code",
   "execution_count": null,
   "metadata": {
    "id": "7p7UcOUxuu2Z"
   },
   "outputs": [],
   "source": [
    "decomposed_model = deepcopy(model) # возьмем не сжатую модель\n",
    "for i in layer_ids: #\n",
    "    # cжимаем все слои сразу\n",
    "    decomposed_model = create_small_network(\n",
    "        deepcopy(decomposed_model),\n",
    "        decode_head_layer_id=i,\n",
    "        transpose=False,\n",
    "    )\n",
    "\n",
    "#\n",
    "#disable_old_layers_grads(decomposed_model,decode_head_layer_id=i)\n",
    "#train(decomposed_model,train_params)\n",
    "#enable_all_grads(decomposed_model)\n",
    "\n",
    "train(\n",
    "    teacher_model=model,\n",
    "    student_model=decomposed_model,\n",
    "    train_params=train_params,\n",
    "    student_teacher_attention_mapping=student_teacher_attention_mapping,\n",
    ")\n",
    "\n",
    "\n",
    "decomposed_metrics = evaluate_model(decomposed_model, valid_dataloader, id2label)\n",
    "iou_diff_shot = full_metrics['mean_iou']-decomposed_metrics['mean_iou']"
   ]
  },
  {
   "cell_type": "code",
   "execution_count": null,
   "metadata": {
    "id": "M5kpmztNzTQD"
   },
   "outputs": [],
   "source": [
    "iou_diff_shot"
   ]
  },
  {
   "cell_type": "code",
   "execution_count": null,
   "metadata": {},
   "outputs": [],
   "source": [
    "get_n_params(decomposed_model) / get_n_params(model)"
   ]
  },
  {
   "cell_type": "markdown",
   "metadata": {
    "id": "kMM6vTdYXIFZ"
   },
   "source": [
    "# Задание 4\n",
    "Смотри описание в начале ноутбука. Просто хочется услышать/прочесть мысли Ваши мысли о рангах или и разных статегиях сжатия."
   ]
  },
  {
   "cell_type": "markdown",
   "metadata": {
    "id": "HayjmvR-3SVV"
   },
   "source": [
    "## Отправка решения\n",
    "\n",
    "Загрузите ноутбук на образовательную платформу."
   ]
  },
  {
   "cell_type": "code",
   "execution_count": null,
   "metadata": {
    "id": "mbDg0cpHGlYw"
   },
   "outputs": [],
   "source": []
  }
 ],
 "metadata": {
  "accelerator": "GPU",
  "colab": {
   "gpuType": "T4",
   "provenance": []
  },
  "kernelspec": {
   "display_name": "deepschool",
   "language": "python",
   "name": "deepschool"
  },
  "language_info": {
   "codemirror_mode": {
    "name": "ipython",
    "version": 3
   },
   "file_extension": ".py",
   "mimetype": "text/x-python",
   "name": "python",
   "nbconvert_exporter": "python",
   "pygments_lexer": "ipython3",
   "version": "3.10.12"
  },
  "widgets": {
   "application/vnd.jupyter.widget-state+json": {
    "0057b8e5f94148648fd5b2f79b0a14d2": {
     "model_module": "@jupyter-widgets/controls",
     "model_module_version": "1.5.0",
     "model_name": "HBoxModel",
     "state": {
      "_dom_classes": [],
      "_model_module": "@jupyter-widgets/controls",
      "_model_module_version": "1.5.0",
      "_model_name": "HBoxModel",
      "_view_count": null,
      "_view_module": "@jupyter-widgets/controls",
      "_view_module_version": "1.5.0",
      "_view_name": "HBoxView",
      "box_style": "",
      "children": [
       "IPY_MODEL_c4a4ebcafb4445e69699c80fda3d042f",
       "IPY_MODEL_364baf43c9f74ef1aff4380f200d7f75",
       "IPY_MODEL_ed6403abc0e44cddb3b715a464ebba31"
      ],
      "layout": "IPY_MODEL_acf72b4c262949f19f636282f299c6a7"
     }
    },
    "02556006a8f04e068bf45a2f9320f48e": {
     "model_module": "@jupyter-widgets/base",
     "model_module_version": "1.2.0",
     "model_name": "LayoutModel",
     "state": {
      "_model_module": "@jupyter-widgets/base",
      "_model_module_version": "1.2.0",
      "_model_name": "LayoutModel",
      "_view_count": null,
      "_view_module": "@jupyter-widgets/base",
      "_view_module_version": "1.2.0",
      "_view_name": "LayoutView",
      "align_content": null,
      "align_items": null,
      "align_self": null,
      "border": null,
      "bottom": null,
      "display": null,
      "flex": null,
      "flex_flow": null,
      "grid_area": null,
      "grid_auto_columns": null,
      "grid_auto_flow": null,
      "grid_auto_rows": null,
      "grid_column": null,
      "grid_gap": null,
      "grid_row": null,
      "grid_template_areas": null,
      "grid_template_columns": null,
      "grid_template_rows": null,
      "height": null,
      "justify_content": null,
      "justify_items": null,
      "left": null,
      "margin": null,
      "max_height": null,
      "max_width": null,
      "min_height": null,
      "min_width": null,
      "object_fit": null,
      "object_position": null,
      "order": null,
      "overflow": null,
      "overflow_x": null,
      "overflow_y": null,
      "padding": null,
      "right": null,
      "top": null,
      "visibility": null,
      "width": null
     }
    },
    "027192575218462a89cf7017a74a7e88": {
     "model_module": "@jupyter-widgets/controls",
     "model_module_version": "1.5.0",
     "model_name": "ProgressStyleModel",
     "state": {
      "_model_module": "@jupyter-widgets/controls",
      "_model_module_version": "1.5.0",
      "_model_name": "ProgressStyleModel",
      "_view_count": null,
      "_view_module": "@jupyter-widgets/base",
      "_view_module_version": "1.2.0",
      "_view_name": "StyleView",
      "bar_color": null,
      "description_width": ""
     }
    },
    "034f7173d54c4b2cb0ef97ce322caf83": {
     "model_module": "@jupyter-widgets/base",
     "model_module_version": "1.2.0",
     "model_name": "LayoutModel",
     "state": {
      "_model_module": "@jupyter-widgets/base",
      "_model_module_version": "1.2.0",
      "_model_name": "LayoutModel",
      "_view_count": null,
      "_view_module": "@jupyter-widgets/base",
      "_view_module_version": "1.2.0",
      "_view_name": "LayoutView",
      "align_content": null,
      "align_items": null,
      "align_self": null,
      "border": null,
      "bottom": null,
      "display": null,
      "flex": null,
      "flex_flow": null,
      "grid_area": null,
      "grid_auto_columns": null,
      "grid_auto_flow": null,
      "grid_auto_rows": null,
      "grid_column": null,
      "grid_gap": null,
      "grid_row": null,
      "grid_template_areas": null,
      "grid_template_columns": null,
      "grid_template_rows": null,
      "height": null,
      "justify_content": null,
      "justify_items": null,
      "left": null,
      "margin": null,
      "max_height": null,
      "max_width": null,
      "min_height": null,
      "min_width": null,
      "object_fit": null,
      "object_position": null,
      "order": null,
      "overflow": null,
      "overflow_x": null,
      "overflow_y": null,
      "padding": null,
      "right": null,
      "top": null,
      "visibility": null,
      "width": null
     }
    },
    "083d20c7ca704c649986d105eecfb4de": {
     "model_module": "@jupyter-widgets/base",
     "model_module_version": "1.2.0",
     "model_name": "LayoutModel",
     "state": {
      "_model_module": "@jupyter-widgets/base",
      "_model_module_version": "1.2.0",
      "_model_name": "LayoutModel",
      "_view_count": null,
      "_view_module": "@jupyter-widgets/base",
      "_view_module_version": "1.2.0",
      "_view_name": "LayoutView",
      "align_content": null,
      "align_items": null,
      "align_self": null,
      "border": null,
      "bottom": null,
      "display": null,
      "flex": null,
      "flex_flow": null,
      "grid_area": null,
      "grid_auto_columns": null,
      "grid_auto_flow": null,
      "grid_auto_rows": null,
      "grid_column": null,
      "grid_gap": null,
      "grid_row": null,
      "grid_template_areas": null,
      "grid_template_columns": null,
      "grid_template_rows": null,
      "height": null,
      "justify_content": null,
      "justify_items": null,
      "left": null,
      "margin": null,
      "max_height": null,
      "max_width": null,
      "min_height": null,
      "min_width": null,
      "object_fit": null,
      "object_position": null,
      "order": null,
      "overflow": null,
      "overflow_x": null,
      "overflow_y": null,
      "padding": null,
      "right": null,
      "top": null,
      "visibility": null,
      "width": null
     }
    },
    "11d576791fb5499aaba595281d55c3f6": {
     "model_module": "@jupyter-widgets/controls",
     "model_module_version": "1.5.0",
     "model_name": "DescriptionStyleModel",
     "state": {
      "_model_module": "@jupyter-widgets/controls",
      "_model_module_version": "1.5.0",
      "_model_name": "DescriptionStyleModel",
      "_view_count": null,
      "_view_module": "@jupyter-widgets/base",
      "_view_module_version": "1.2.0",
      "_view_name": "StyleView",
      "description_width": ""
     }
    },
    "129bf11b6b3144239183765f93d61d10": {
     "model_module": "@jupyter-widgets/controls",
     "model_module_version": "1.5.0",
     "model_name": "HTMLModel",
     "state": {
      "_dom_classes": [],
      "_model_module": "@jupyter-widgets/controls",
      "_model_module_version": "1.5.0",
      "_model_name": "HTMLModel",
      "_view_count": null,
      "_view_module": "@jupyter-widgets/controls",
      "_view_module_version": "1.5.0",
      "_view_name": "HTMLView",
      "description": "",
      "description_tooltip": null,
      "layout": "IPY_MODEL_02556006a8f04e068bf45a2f9320f48e",
      "placeholder": "​",
      "style": "IPY_MODEL_5909d133584f49cc9a75452e44995961",
      "value": " 14.4M/14.4M [00:00&lt;00:00, 140MB/s]"
     }
    },
    "187d44b0bbc8451d970fdd940761da78": {
     "model_module": "@jupyter-widgets/controls",
     "model_module_version": "1.5.0",
     "model_name": "DescriptionStyleModel",
     "state": {
      "_model_module": "@jupyter-widgets/controls",
      "_model_module_version": "1.5.0",
      "_model_name": "DescriptionStyleModel",
      "_view_count": null,
      "_view_module": "@jupyter-widgets/base",
      "_view_module_version": "1.2.0",
      "_view_name": "StyleView",
      "description_width": ""
     }
    },
    "1bedcd4933234b2899b0d73c0026a9ad": {
     "model_module": "@jupyter-widgets/controls",
     "model_module_version": "1.5.0",
     "model_name": "HTMLModel",
     "state": {
      "_dom_classes": [],
      "_model_module": "@jupyter-widgets/controls",
      "_model_module_version": "1.5.0",
      "_model_name": "HTMLModel",
      "_view_count": null,
      "_view_module": "@jupyter-widgets/controls",
      "_view_module_version": "1.5.0",
      "_view_name": "HTMLView",
      "description": "",
      "description_tooltip": null,
      "layout": "IPY_MODEL_2e6f3827499e4edaa8f98d438a67f751",
      "placeholder": "​",
      "style": "IPY_MODEL_11d576791fb5499aaba595281d55c3f6",
      "value": " 13.0k/? [00:00&lt;00:00, 239kB/s]"
     }
    },
    "22ac42a5295f4288930f4cb12e743a35": {
     "model_module": "@jupyter-widgets/controls",
     "model_module_version": "1.5.0",
     "model_name": "DescriptionStyleModel",
     "state": {
      "_model_module": "@jupyter-widgets/controls",
      "_model_module_version": "1.5.0",
      "_model_name": "DescriptionStyleModel",
      "_view_count": null,
      "_view_module": "@jupyter-widgets/base",
      "_view_module_version": "1.2.0",
      "_view_name": "StyleView",
      "description_width": ""
     }
    },
    "28896b252b184bb7bd130ef9dd8947c3": {
     "model_module": "@jupyter-widgets/controls",
     "model_module_version": "1.5.0",
     "model_name": "DescriptionStyleModel",
     "state": {
      "_model_module": "@jupyter-widgets/controls",
      "_model_module_version": "1.5.0",
      "_model_name": "DescriptionStyleModel",
      "_view_count": null,
      "_view_module": "@jupyter-widgets/base",
      "_view_module_version": "1.2.0",
      "_view_name": "StyleView",
      "description_width": ""
     }
    },
    "2d3285e8a9784a03bdaeadd518041779": {
     "model_module": "@jupyter-widgets/base",
     "model_module_version": "1.2.0",
     "model_name": "LayoutModel",
     "state": {
      "_model_module": "@jupyter-widgets/base",
      "_model_module_version": "1.2.0",
      "_model_name": "LayoutModel",
      "_view_count": null,
      "_view_module": "@jupyter-widgets/base",
      "_view_module_version": "1.2.0",
      "_view_name": "LayoutView",
      "align_content": null,
      "align_items": null,
      "align_self": null,
      "border": null,
      "bottom": null,
      "display": null,
      "flex": null,
      "flex_flow": null,
      "grid_area": null,
      "grid_auto_columns": null,
      "grid_auto_flow": null,
      "grid_auto_rows": null,
      "grid_column": null,
      "grid_gap": null,
      "grid_row": null,
      "grid_template_areas": null,
      "grid_template_columns": null,
      "grid_template_rows": null,
      "height": null,
      "justify_content": null,
      "justify_items": null,
      "left": null,
      "margin": null,
      "max_height": null,
      "max_width": null,
      "min_height": null,
      "min_width": null,
      "object_fit": null,
      "object_position": null,
      "order": null,
      "overflow": null,
      "overflow_x": null,
      "overflow_y": null,
      "padding": null,
      "right": null,
      "top": null,
      "visibility": null,
      "width": null
     }
    },
    "2e6f3827499e4edaa8f98d438a67f751": {
     "model_module": "@jupyter-widgets/base",
     "model_module_version": "1.2.0",
     "model_name": "LayoutModel",
     "state": {
      "_model_module": "@jupyter-widgets/base",
      "_model_module_version": "1.2.0",
      "_model_name": "LayoutModel",
      "_view_count": null,
      "_view_module": "@jupyter-widgets/base",
      "_view_module_version": "1.2.0",
      "_view_name": "LayoutView",
      "align_content": null,
      "align_items": null,
      "align_self": null,
      "border": null,
      "bottom": null,
      "display": null,
      "flex": null,
      "flex_flow": null,
      "grid_area": null,
      "grid_auto_columns": null,
      "grid_auto_flow": null,
      "grid_auto_rows": null,
      "grid_column": null,
      "grid_gap": null,
      "grid_row": null,
      "grid_template_areas": null,
      "grid_template_columns": null,
      "grid_template_rows": null,
      "height": null,
      "justify_content": null,
      "justify_items": null,
      "left": null,
      "margin": null,
      "max_height": null,
      "max_width": null,
      "min_height": null,
      "min_width": null,
      "object_fit": null,
      "object_position": null,
      "order": null,
      "overflow": null,
      "overflow_x": null,
      "overflow_y": null,
      "padding": null,
      "right": null,
      "top": null,
      "visibility": null,
      "width": null
     }
    },
    "364baf43c9f74ef1aff4380f200d7f75": {
     "model_module": "@jupyter-widgets/controls",
     "model_module_version": "1.5.0",
     "model_name": "FloatProgressModel",
     "state": {
      "_dom_classes": [],
      "_model_module": "@jupyter-widgets/controls",
      "_model_module_version": "1.5.0",
      "_model_name": "FloatProgressModel",
      "_view_count": null,
      "_view_module": "@jupyter-widgets/controls",
      "_view_module_version": "1.5.0",
      "_view_name": "ProgressView",
      "bar_style": "success",
      "description": "",
      "description_tooltip": null,
      "layout": "IPY_MODEL_a60b080d360a4cecbff98bdbc689a20f",
      "max": 70043,
      "min": 0,
      "orientation": "horizontal",
      "style": "IPY_MODEL_37f8c231fc0448a4b47e136d5851fdf5",
      "value": 70043
     }
    },
    "37f8c231fc0448a4b47e136d5851fdf5": {
     "model_module": "@jupyter-widgets/controls",
     "model_module_version": "1.5.0",
     "model_name": "ProgressStyleModel",
     "state": {
      "_model_module": "@jupyter-widgets/controls",
      "_model_module_version": "1.5.0",
      "_model_name": "ProgressStyleModel",
      "_view_count": null,
      "_view_module": "@jupyter-widgets/base",
      "_view_module_version": "1.2.0",
      "_view_name": "StyleView",
      "bar_color": null,
      "description_width": ""
     }
    },
    "3b7e1db583a44c9093960154d0646040": {
     "model_module": "@jupyter-widgets/controls",
     "model_module_version": "1.5.0",
     "model_name": "HTMLModel",
     "state": {
      "_dom_classes": [],
      "_model_module": "@jupyter-widgets/controls",
      "_model_module_version": "1.5.0",
      "_model_name": "HTMLModel",
      "_view_count": null,
      "_view_module": "@jupyter-widgets/controls",
      "_view_module_version": "1.5.0",
      "_view_name": "HTMLView",
      "description": "",
      "description_tooltip": null,
      "layout": "IPY_MODEL_c55dd205e687406c99d98b951ff3238d",
      "placeholder": "​",
      "style": "IPY_MODEL_8cd0f1b8072a4c829091ac238ddaa2b9",
      "value": " 0/88 [00:00&lt;?, ?it/s]"
     }
    },
    "3c12a21a8a924ec8a4de90db1f322fa6": {
     "model_module": "@jupyter-widgets/controls",
     "model_module_version": "1.5.0",
     "model_name": "DescriptionStyleModel",
     "state": {
      "_model_module": "@jupyter-widgets/controls",
      "_model_module_version": "1.5.0",
      "_model_name": "DescriptionStyleModel",
      "_view_count": null,
      "_view_module": "@jupyter-widgets/base",
      "_view_module_version": "1.2.0",
      "_view_name": "StyleView",
      "description_width": ""
     }
    },
    "5909d133584f49cc9a75452e44995961": {
     "model_module": "@jupyter-widgets/controls",
     "model_module_version": "1.5.0",
     "model_name": "DescriptionStyleModel",
     "state": {
      "_model_module": "@jupyter-widgets/controls",
      "_model_module_version": "1.5.0",
      "_model_name": "DescriptionStyleModel",
      "_view_count": null,
      "_view_module": "@jupyter-widgets/base",
      "_view_module_version": "1.2.0",
      "_view_name": "StyleView",
      "description_width": ""
     }
    },
    "59cfee55bee349418415f62315e61bc2": {
     "model_module": "@jupyter-widgets/base",
     "model_module_version": "1.2.0",
     "model_name": "LayoutModel",
     "state": {
      "_model_module": "@jupyter-widgets/base",
      "_model_module_version": "1.2.0",
      "_model_name": "LayoutModel",
      "_view_count": null,
      "_view_module": "@jupyter-widgets/base",
      "_view_module_version": "1.2.0",
      "_view_name": "LayoutView",
      "align_content": null,
      "align_items": null,
      "align_self": null,
      "border": null,
      "bottom": null,
      "display": null,
      "flex": null,
      "flex_flow": null,
      "grid_area": null,
      "grid_auto_columns": null,
      "grid_auto_flow": null,
      "grid_auto_rows": null,
      "grid_column": null,
      "grid_gap": null,
      "grid_row": null,
      "grid_template_areas": null,
      "grid_template_columns": null,
      "grid_template_rows": null,
      "height": null,
      "justify_content": null,
      "justify_items": null,
      "left": null,
      "margin": null,
      "max_height": null,
      "max_width": null,
      "min_height": null,
      "min_width": null,
      "object_fit": null,
      "object_position": null,
      "order": null,
      "overflow": null,
      "overflow_x": null,
      "overflow_y": null,
      "padding": null,
      "right": null,
      "top": null,
      "visibility": null,
      "width": null
     }
    },
    "60bcce6ea9004aab97a68d2e01717dc4": {
     "model_module": "@jupyter-widgets/controls",
     "model_module_version": "1.5.0",
     "model_name": "HBoxModel",
     "state": {
      "_dom_classes": [],
      "_model_module": "@jupyter-widgets/controls",
      "_model_module_version": "1.5.0",
      "_model_name": "HBoxModel",
      "_view_count": null,
      "_view_module": "@jupyter-widgets/controls",
      "_view_module_version": "1.5.0",
      "_view_name": "HBoxView",
      "box_style": "",
      "children": [
       "IPY_MODEL_d1ccb9b2492847148c6691e236975eaf",
       "IPY_MODEL_87f39d5acd5e4805ba4fc0e01a2031d9",
       "IPY_MODEL_1bedcd4933234b2899b0d73c0026a9ad"
      ],
      "layout": "IPY_MODEL_034f7173d54c4b2cb0ef97ce322caf83"
     }
    },
    "6eacdcd31bb541e8bcfb9a7dac8bdb2a": {
     "model_module": "@jupyter-widgets/controls",
     "model_module_version": "1.5.0",
     "model_name": "FloatProgressModel",
     "state": {
      "_dom_classes": [],
      "_model_module": "@jupyter-widgets/controls",
      "_model_module_version": "1.5.0",
      "_model_name": "FloatProgressModel",
      "_view_count": null,
      "_view_module": "@jupyter-widgets/controls",
      "_view_module_version": "1.5.0",
      "_view_name": "ProgressView",
      "bar_style": "danger",
      "description": "",
      "description_tooltip": null,
      "layout": "IPY_MODEL_2d3285e8a9784a03bdaeadd518041779",
      "max": 88,
      "min": 0,
      "orientation": "horizontal",
      "style": "IPY_MODEL_027192575218462a89cf7017a74a7e88",
      "value": 0
     }
    },
    "71585bba40a34e0384a8337ccc0f8955": {
     "model_module": "@jupyter-widgets/base",
     "model_module_version": "1.2.0",
     "model_name": "LayoutModel",
     "state": {
      "_model_module": "@jupyter-widgets/base",
      "_model_module_version": "1.2.0",
      "_model_name": "LayoutModel",
      "_view_count": null,
      "_view_module": "@jupyter-widgets/base",
      "_view_module_version": "1.2.0",
      "_view_name": "LayoutView",
      "align_content": null,
      "align_items": null,
      "align_self": null,
      "border": null,
      "bottom": null,
      "display": null,
      "flex": null,
      "flex_flow": null,
      "grid_area": null,
      "grid_auto_columns": null,
      "grid_auto_flow": null,
      "grid_auto_rows": null,
      "grid_column": null,
      "grid_gap": null,
      "grid_row": null,
      "grid_template_areas": null,
      "grid_template_columns": null,
      "grid_template_rows": null,
      "height": null,
      "justify_content": null,
      "justify_items": null,
      "left": null,
      "margin": null,
      "max_height": null,
      "max_width": null,
      "min_height": null,
      "min_width": null,
      "object_fit": null,
      "object_position": null,
      "order": null,
      "overflow": null,
      "overflow_x": null,
      "overflow_y": null,
      "padding": null,
      "right": null,
      "top": null,
      "visibility": null,
      "width": null
     }
    },
    "8337e093479d4c36a62f784330a7ca42": {
     "model_module": "@jupyter-widgets/controls",
     "model_module_version": "1.5.0",
     "model_name": "ProgressStyleModel",
     "state": {
      "_model_module": "@jupyter-widgets/controls",
      "_model_module_version": "1.5.0",
      "_model_name": "ProgressStyleModel",
      "_view_count": null,
      "_view_module": "@jupyter-widgets/base",
      "_view_module_version": "1.2.0",
      "_view_name": "StyleView",
      "bar_color": null,
      "description_width": ""
     }
    },
    "86998d7a122d43068f220d9f1ea38bcb": {
     "model_module": "@jupyter-widgets/base",
     "model_module_version": "1.2.0",
     "model_name": "LayoutModel",
     "state": {
      "_model_module": "@jupyter-widgets/base",
      "_model_module_version": "1.2.0",
      "_model_name": "LayoutModel",
      "_view_count": null,
      "_view_module": "@jupyter-widgets/base",
      "_view_module_version": "1.2.0",
      "_view_name": "LayoutView",
      "align_content": null,
      "align_items": null,
      "align_self": null,
      "border": null,
      "bottom": null,
      "display": null,
      "flex": null,
      "flex_flow": null,
      "grid_area": null,
      "grid_auto_columns": null,
      "grid_auto_flow": null,
      "grid_auto_rows": null,
      "grid_column": null,
      "grid_gap": null,
      "grid_row": null,
      "grid_template_areas": null,
      "grid_template_columns": null,
      "grid_template_rows": null,
      "height": null,
      "justify_content": null,
      "justify_items": null,
      "left": null,
      "margin": null,
      "max_height": null,
      "max_width": null,
      "min_height": null,
      "min_width": null,
      "object_fit": null,
      "object_position": null,
      "order": null,
      "overflow": null,
      "overflow_x": null,
      "overflow_y": null,
      "padding": null,
      "right": null,
      "top": null,
      "visibility": null,
      "width": null
     }
    },
    "87f39d5acd5e4805ba4fc0e01a2031d9": {
     "model_module": "@jupyter-widgets/controls",
     "model_module_version": "1.5.0",
     "model_name": "FloatProgressModel",
     "state": {
      "_dom_classes": [],
      "_model_module": "@jupyter-widgets/controls",
      "_model_module_version": "1.5.0",
      "_model_name": "FloatProgressModel",
      "_view_count": null,
      "_view_module": "@jupyter-widgets/controls",
      "_view_module_version": "1.5.0",
      "_view_name": "ProgressView",
      "bar_style": "success",
      "description": "",
      "description_tooltip": null,
      "layout": "IPY_MODEL_f22c6aac10df42e3bbc1ccb6a60a3d2f",
      "max": 3138,
      "min": 0,
      "orientation": "horizontal",
      "style": "IPY_MODEL_e5efd9323a09448e9c9f79e29a9e60ca",
      "value": 3138
     }
    },
    "8cd0f1b8072a4c829091ac238ddaa2b9": {
     "model_module": "@jupyter-widgets/controls",
     "model_module_version": "1.5.0",
     "model_name": "DescriptionStyleModel",
     "state": {
      "_model_module": "@jupyter-widgets/controls",
      "_model_module_version": "1.5.0",
      "_model_name": "DescriptionStyleModel",
      "_view_count": null,
      "_view_module": "@jupyter-widgets/base",
      "_view_module_version": "1.2.0",
      "_view_name": "StyleView",
      "description_width": ""
     }
    },
    "9e13f968af4548508c619263f4355448": {
     "model_module": "@jupyter-widgets/base",
     "model_module_version": "1.2.0",
     "model_name": "LayoutModel",
     "state": {
      "_model_module": "@jupyter-widgets/base",
      "_model_module_version": "1.2.0",
      "_model_name": "LayoutModel",
      "_view_count": null,
      "_view_module": "@jupyter-widgets/base",
      "_view_module_version": "1.2.0",
      "_view_name": "LayoutView",
      "align_content": null,
      "align_items": null,
      "align_self": null,
      "border": null,
      "bottom": null,
      "display": null,
      "flex": null,
      "flex_flow": null,
      "grid_area": null,
      "grid_auto_columns": null,
      "grid_auto_flow": null,
      "grid_auto_rows": null,
      "grid_column": null,
      "grid_gap": null,
      "grid_row": null,
      "grid_template_areas": null,
      "grid_template_columns": null,
      "grid_template_rows": null,
      "height": null,
      "justify_content": null,
      "justify_items": null,
      "left": null,
      "margin": null,
      "max_height": null,
      "max_width": null,
      "min_height": null,
      "min_width": null,
      "object_fit": null,
      "object_position": null,
      "order": null,
      "overflow": null,
      "overflow_x": null,
      "overflow_y": null,
      "padding": null,
      "right": null,
      "top": null,
      "visibility": null,
      "width": null
     }
    },
    "a60b080d360a4cecbff98bdbc689a20f": {
     "model_module": "@jupyter-widgets/base",
     "model_module_version": "1.2.0",
     "model_name": "LayoutModel",
     "state": {
      "_model_module": "@jupyter-widgets/base",
      "_model_module_version": "1.2.0",
      "_model_name": "LayoutModel",
      "_view_count": null,
      "_view_module": "@jupyter-widgets/base",
      "_view_module_version": "1.2.0",
      "_view_name": "LayoutView",
      "align_content": null,
      "align_items": null,
      "align_self": null,
      "border": null,
      "bottom": null,
      "display": null,
      "flex": null,
      "flex_flow": null,
      "grid_area": null,
      "grid_auto_columns": null,
      "grid_auto_flow": null,
      "grid_auto_rows": null,
      "grid_column": null,
      "grid_gap": null,
      "grid_row": null,
      "grid_template_areas": null,
      "grid_template_columns": null,
      "grid_template_rows": null,
      "height": null,
      "justify_content": null,
      "justify_items": null,
      "left": null,
      "margin": null,
      "max_height": null,
      "max_width": null,
      "min_height": null,
      "min_width": null,
      "object_fit": null,
      "object_position": null,
      "order": null,
      "overflow": null,
      "overflow_x": null,
      "overflow_y": null,
      "padding": null,
      "right": null,
      "top": null,
      "visibility": null,
      "width": null
     }
    },
    "aa9ecb5d899c41419ef94e7a9a4b1fc5": {
     "model_module": "@jupyter-widgets/controls",
     "model_module_version": "1.5.0",
     "model_name": "HBoxModel",
     "state": {
      "_dom_classes": [],
      "_model_module": "@jupyter-widgets/controls",
      "_model_module_version": "1.5.0",
      "_model_name": "HBoxModel",
      "_view_count": null,
      "_view_module": "@jupyter-widgets/controls",
      "_view_module_version": "1.5.0",
      "_view_name": "HBoxView",
      "box_style": "",
      "children": [
       "IPY_MODEL_c3a0fd8b00bd434b96628282f62893fe",
       "IPY_MODEL_6eacdcd31bb541e8bcfb9a7dac8bdb2a",
       "IPY_MODEL_3b7e1db583a44c9093960154d0646040"
      ],
      "layout": "IPY_MODEL_9e13f968af4548508c619263f4355448"
     }
    },
    "acf72b4c262949f19f636282f299c6a7": {
     "model_module": "@jupyter-widgets/base",
     "model_module_version": "1.2.0",
     "model_name": "LayoutModel",
     "state": {
      "_model_module": "@jupyter-widgets/base",
      "_model_module_version": "1.2.0",
      "_model_name": "LayoutModel",
      "_view_count": null,
      "_view_module": "@jupyter-widgets/base",
      "_view_module_version": "1.2.0",
      "_view_name": "LayoutView",
      "align_content": null,
      "align_items": null,
      "align_self": null,
      "border": null,
      "bottom": null,
      "display": null,
      "flex": null,
      "flex_flow": null,
      "grid_area": null,
      "grid_auto_columns": null,
      "grid_auto_flow": null,
      "grid_auto_rows": null,
      "grid_column": null,
      "grid_gap": null,
      "grid_row": null,
      "grid_template_areas": null,
      "grid_template_columns": null,
      "grid_template_rows": null,
      "height": null,
      "justify_content": null,
      "justify_items": null,
      "left": null,
      "margin": null,
      "max_height": null,
      "max_width": null,
      "min_height": null,
      "min_width": null,
      "object_fit": null,
      "object_position": null,
      "order": null,
      "overflow": null,
      "overflow_x": null,
      "overflow_y": null,
      "padding": null,
      "right": null,
      "top": null,
      "visibility": null,
      "width": null
     }
    },
    "bcfb43b07e14401b9457cc479e092e1e": {
     "model_module": "@jupyter-widgets/controls",
     "model_module_version": "1.5.0",
     "model_name": "FloatProgressModel",
     "state": {
      "_dom_classes": [],
      "_model_module": "@jupyter-widgets/controls",
      "_model_module_version": "1.5.0",
      "_model_name": "FloatProgressModel",
      "_view_count": null,
      "_view_module": "@jupyter-widgets/controls",
      "_view_module_version": "1.5.0",
      "_view_name": "ProgressView",
      "bar_style": "success",
      "description": "",
      "description_tooltip": null,
      "layout": "IPY_MODEL_bf08f24801644ca3813068bf930e3647",
      "max": 14380029,
      "min": 0,
      "orientation": "horizontal",
      "style": "IPY_MODEL_8337e093479d4c36a62f784330a7ca42",
      "value": 14380029
     }
    },
    "bf08f24801644ca3813068bf930e3647": {
     "model_module": "@jupyter-widgets/base",
     "model_module_version": "1.2.0",
     "model_name": "LayoutModel",
     "state": {
      "_model_module": "@jupyter-widgets/base",
      "_model_module_version": "1.2.0",
      "_model_name": "LayoutModel",
      "_view_count": null,
      "_view_module": "@jupyter-widgets/base",
      "_view_module_version": "1.2.0",
      "_view_name": "LayoutView",
      "align_content": null,
      "align_items": null,
      "align_self": null,
      "border": null,
      "bottom": null,
      "display": null,
      "flex": null,
      "flex_flow": null,
      "grid_area": null,
      "grid_auto_columns": null,
      "grid_auto_flow": null,
      "grid_auto_rows": null,
      "grid_column": null,
      "grid_gap": null,
      "grid_row": null,
      "grid_template_areas": null,
      "grid_template_columns": null,
      "grid_template_rows": null,
      "height": null,
      "justify_content": null,
      "justify_items": null,
      "left": null,
      "margin": null,
      "max_height": null,
      "max_width": null,
      "min_height": null,
      "min_width": null,
      "object_fit": null,
      "object_position": null,
      "order": null,
      "overflow": null,
      "overflow_x": null,
      "overflow_y": null,
      "padding": null,
      "right": null,
      "top": null,
      "visibility": null,
      "width": null
     }
    },
    "bfcf06caab064f989e35ba5ddef0707b": {
     "model_module": "@jupyter-widgets/base",
     "model_module_version": "1.2.0",
     "model_name": "LayoutModel",
     "state": {
      "_model_module": "@jupyter-widgets/base",
      "_model_module_version": "1.2.0",
      "_model_name": "LayoutModel",
      "_view_count": null,
      "_view_module": "@jupyter-widgets/base",
      "_view_module_version": "1.2.0",
      "_view_name": "LayoutView",
      "align_content": null,
      "align_items": null,
      "align_self": null,
      "border": null,
      "bottom": null,
      "display": null,
      "flex": null,
      "flex_flow": null,
      "grid_area": null,
      "grid_auto_columns": null,
      "grid_auto_flow": null,
      "grid_auto_rows": null,
      "grid_column": null,
      "grid_gap": null,
      "grid_row": null,
      "grid_template_areas": null,
      "grid_template_columns": null,
      "grid_template_rows": null,
      "height": null,
      "justify_content": null,
      "justify_items": null,
      "left": null,
      "margin": null,
      "max_height": null,
      "max_width": null,
      "min_height": null,
      "min_width": null,
      "object_fit": null,
      "object_position": null,
      "order": null,
      "overflow": null,
      "overflow_x": null,
      "overflow_y": null,
      "padding": null,
      "right": null,
      "top": null,
      "visibility": null,
      "width": null
     }
    },
    "c059bbe6121445faad8a11411da1b90b": {
     "model_module": "@jupyter-widgets/controls",
     "model_module_version": "1.5.0",
     "model_name": "DescriptionStyleModel",
     "state": {
      "_model_module": "@jupyter-widgets/controls",
      "_model_module_version": "1.5.0",
      "_model_name": "DescriptionStyleModel",
      "_view_count": null,
      "_view_module": "@jupyter-widgets/base",
      "_view_module_version": "1.2.0",
      "_view_name": "StyleView",
      "description_width": ""
     }
    },
    "c3a0fd8b00bd434b96628282f62893fe": {
     "model_module": "@jupyter-widgets/controls",
     "model_module_version": "1.5.0",
     "model_name": "HTMLModel",
     "state": {
      "_dom_classes": [],
      "_model_module": "@jupyter-widgets/controls",
      "_model_module_version": "1.5.0",
      "_model_name": "HTMLModel",
      "_view_count": null,
      "_view_module": "@jupyter-widgets/controls",
      "_view_module_version": "1.5.0",
      "_view_name": "HTMLView",
      "description": "",
      "description_tooltip": null,
      "layout": "IPY_MODEL_e021005bd3ed47aabb24334360036e2d",
      "placeholder": "​",
      "style": "IPY_MODEL_c059bbe6121445faad8a11411da1b90b",
      "value": "  0%"
     }
    },
    "c4a4ebcafb4445e69699c80fda3d042f": {
     "model_module": "@jupyter-widgets/controls",
     "model_module_version": "1.5.0",
     "model_name": "HTMLModel",
     "state": {
      "_dom_classes": [],
      "_model_module": "@jupyter-widgets/controls",
      "_model_module_version": "1.5.0",
      "_model_name": "HTMLModel",
      "_view_count": null,
      "_view_module": "@jupyter-widgets/controls",
      "_view_module_version": "1.5.0",
      "_view_name": "HTMLView",
      "description": "",
      "description_tooltip": null,
      "layout": "IPY_MODEL_083d20c7ca704c649986d105eecfb4de",
      "placeholder": "​",
      "style": "IPY_MODEL_187d44b0bbc8451d970fdd940761da78",
      "value": "config.json: 100%"
     }
    },
    "c55dd205e687406c99d98b951ff3238d": {
     "model_module": "@jupyter-widgets/base",
     "model_module_version": "1.2.0",
     "model_name": "LayoutModel",
     "state": {
      "_model_module": "@jupyter-widgets/base",
      "_model_module_version": "1.2.0",
      "_model_name": "LayoutModel",
      "_view_count": null,
      "_view_module": "@jupyter-widgets/base",
      "_view_module_version": "1.2.0",
      "_view_name": "LayoutView",
      "align_content": null,
      "align_items": null,
      "align_self": null,
      "border": null,
      "bottom": null,
      "display": null,
      "flex": null,
      "flex_flow": null,
      "grid_area": null,
      "grid_auto_columns": null,
      "grid_auto_flow": null,
      "grid_auto_rows": null,
      "grid_column": null,
      "grid_gap": null,
      "grid_row": null,
      "grid_template_areas": null,
      "grid_template_columns": null,
      "grid_template_rows": null,
      "height": null,
      "justify_content": null,
      "justify_items": null,
      "left": null,
      "margin": null,
      "max_height": null,
      "max_width": null,
      "min_height": null,
      "min_width": null,
      "object_fit": null,
      "object_position": null,
      "order": null,
      "overflow": null,
      "overflow_x": null,
      "overflow_y": null,
      "padding": null,
      "right": null,
      "top": null,
      "visibility": null,
      "width": null
     }
    },
    "d1ccb9b2492847148c6691e236975eaf": {
     "model_module": "@jupyter-widgets/controls",
     "model_module_version": "1.5.0",
     "model_name": "HTMLModel",
     "state": {
      "_dom_classes": [],
      "_model_module": "@jupyter-widgets/controls",
      "_model_module_version": "1.5.0",
      "_model_name": "HTMLModel",
      "_view_count": null,
      "_view_module": "@jupyter-widgets/controls",
      "_view_module_version": "1.5.0",
      "_view_name": "HTMLView",
      "description": "",
      "description_tooltip": null,
      "layout": "IPY_MODEL_bfcf06caab064f989e35ba5ddef0707b",
      "placeholder": "​",
      "style": "IPY_MODEL_22ac42a5295f4288930f4cb12e743a35",
      "value": "Downloading builder script: "
     }
    },
    "d514e4740da7406ea7d8c574b9fc2057": {
     "model_module": "@jupyter-widgets/controls",
     "model_module_version": "1.5.0",
     "model_name": "HTMLModel",
     "state": {
      "_dom_classes": [],
      "_model_module": "@jupyter-widgets/controls",
      "_model_module_version": "1.5.0",
      "_model_name": "HTMLModel",
      "_view_count": null,
      "_view_module": "@jupyter-widgets/controls",
      "_view_module_version": "1.5.0",
      "_view_name": "HTMLView",
      "description": "",
      "description_tooltip": null,
      "layout": "IPY_MODEL_71585bba40a34e0384a8337ccc0f8955",
      "placeholder": "​",
      "style": "IPY_MODEL_28896b252b184bb7bd130ef9dd8947c3",
      "value": "pytorch_model.bin: 100%"
     }
    },
    "e021005bd3ed47aabb24334360036e2d": {
     "model_module": "@jupyter-widgets/base",
     "model_module_version": "1.2.0",
     "model_name": "LayoutModel",
     "state": {
      "_model_module": "@jupyter-widgets/base",
      "_model_module_version": "1.2.0",
      "_model_name": "LayoutModel",
      "_view_count": null,
      "_view_module": "@jupyter-widgets/base",
      "_view_module_version": "1.2.0",
      "_view_name": "LayoutView",
      "align_content": null,
      "align_items": null,
      "align_self": null,
      "border": null,
      "bottom": null,
      "display": null,
      "flex": null,
      "flex_flow": null,
      "grid_area": null,
      "grid_auto_columns": null,
      "grid_auto_flow": null,
      "grid_auto_rows": null,
      "grid_column": null,
      "grid_gap": null,
      "grid_row": null,
      "grid_template_areas": null,
      "grid_template_columns": null,
      "grid_template_rows": null,
      "height": null,
      "justify_content": null,
      "justify_items": null,
      "left": null,
      "margin": null,
      "max_height": null,
      "max_width": null,
      "min_height": null,
      "min_width": null,
      "object_fit": null,
      "object_position": null,
      "order": null,
      "overflow": null,
      "overflow_x": null,
      "overflow_y": null,
      "padding": null,
      "right": null,
      "top": null,
      "visibility": null,
      "width": null
     }
    },
    "e5efd9323a09448e9c9f79e29a9e60ca": {
     "model_module": "@jupyter-widgets/controls",
     "model_module_version": "1.5.0",
     "model_name": "ProgressStyleModel",
     "state": {
      "_model_module": "@jupyter-widgets/controls",
      "_model_module_version": "1.5.0",
      "_model_name": "ProgressStyleModel",
      "_view_count": null,
      "_view_module": "@jupyter-widgets/base",
      "_view_module_version": "1.2.0",
      "_view_name": "StyleView",
      "bar_color": null,
      "description_width": ""
     }
    },
    "ed6403abc0e44cddb3b715a464ebba31": {
     "model_module": "@jupyter-widgets/controls",
     "model_module_version": "1.5.0",
     "model_name": "HTMLModel",
     "state": {
      "_dom_classes": [],
      "_model_module": "@jupyter-widgets/controls",
      "_model_module_version": "1.5.0",
      "_model_name": "HTMLModel",
      "_view_count": null,
      "_view_module": "@jupyter-widgets/controls",
      "_view_module_version": "1.5.0",
      "_view_name": "HTMLView",
      "description": "",
      "description_tooltip": null,
      "layout": "IPY_MODEL_86998d7a122d43068f220d9f1ea38bcb",
      "placeholder": "​",
      "style": "IPY_MODEL_3c12a21a8a924ec8a4de90db1f322fa6",
      "value": " 70.0k/70.0k [00:00&lt;00:00, 289kB/s]"
     }
    },
    "f1a270ffb4144b1a9cb13b856d9d0488": {
     "model_module": "@jupyter-widgets/controls",
     "model_module_version": "1.5.0",
     "model_name": "HBoxModel",
     "state": {
      "_dom_classes": [],
      "_model_module": "@jupyter-widgets/controls",
      "_model_module_version": "1.5.0",
      "_model_name": "HBoxModel",
      "_view_count": null,
      "_view_module": "@jupyter-widgets/controls",
      "_view_module_version": "1.5.0",
      "_view_name": "HBoxView",
      "box_style": "",
      "children": [
       "IPY_MODEL_d514e4740da7406ea7d8c574b9fc2057",
       "IPY_MODEL_bcfb43b07e14401b9457cc479e092e1e",
       "IPY_MODEL_129bf11b6b3144239183765f93d61d10"
      ],
      "layout": "IPY_MODEL_59cfee55bee349418415f62315e61bc2"
     }
    },
    "f22c6aac10df42e3bbc1ccb6a60a3d2f": {
     "model_module": "@jupyter-widgets/base",
     "model_module_version": "1.2.0",
     "model_name": "LayoutModel",
     "state": {
      "_model_module": "@jupyter-widgets/base",
      "_model_module_version": "1.2.0",
      "_model_name": "LayoutModel",
      "_view_count": null,
      "_view_module": "@jupyter-widgets/base",
      "_view_module_version": "1.2.0",
      "_view_name": "LayoutView",
      "align_content": null,
      "align_items": null,
      "align_self": null,
      "border": null,
      "bottom": null,
      "display": null,
      "flex": null,
      "flex_flow": null,
      "grid_area": null,
      "grid_auto_columns": null,
      "grid_auto_flow": null,
      "grid_auto_rows": null,
      "grid_column": null,
      "grid_gap": null,
      "grid_row": null,
      "grid_template_areas": null,
      "grid_template_columns": null,
      "grid_template_rows": null,
      "height": null,
      "justify_content": null,
      "justify_items": null,
      "left": null,
      "margin": null,
      "max_height": null,
      "max_width": null,
      "min_height": null,
      "min_width": null,
      "object_fit": null,
      "object_position": null,
      "order": null,
      "overflow": null,
      "overflow_x": null,
      "overflow_y": null,
      "padding": null,
      "right": null,
      "top": null,
      "visibility": null,
      "width": null
     }
    }
   }
  }
 },
 "nbformat": 4,
 "nbformat_minor": 4
}
