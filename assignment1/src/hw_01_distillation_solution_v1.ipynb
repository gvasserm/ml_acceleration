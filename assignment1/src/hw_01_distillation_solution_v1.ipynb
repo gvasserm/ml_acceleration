{
 "cells": [
  {
   "cell_type": "markdown",
   "metadata": {
    "id": "dSniQYqnwccX"
   },
   "source": [
    "# Дистилляция [SegFormer](https://huggingface.co/docs/transformers/model_doc/segformer) (50 баллов)\n",
    "\n",
    "Будем дистиллировать [SegFormer](https://huggingface.co/docs/transformers/model_doc/segformer) для [задачи сегментации людей](https://www.kaggle.com/datasets/laurentmih/aisegmentcom-matting-human-datasets)."
   ]
  },
  {
   "cell_type": "markdown",
   "metadata": {
    "id": "2vdpE2jBwfLT"
   },
   "source": [
    "## Скачаем вспомогательный код и чекпоинт бейзлайна (модели-учителя)"
   ]
  },
  {
   "cell_type": "code",
   "execution_count": null,
   "metadata": {
    "colab": {
     "base_uri": "https://localhost:8080/"
    },
    "id": "vVaGtWUgwnpZ",
    "outputId": "f53d3412-a857-47c3-b611-6a5e9d329a0a",
    "scrolled": true
   },
   "outputs": [],
   "source": [
    "# !wget -O hw_files.zip 'https://www.dropbox.com/scl/fi/jmnz7nsf72ou13tgaxfat/hw_01_dist_files.zip?rlkey=e6cfsgfumdx60pc9sza1wggbb&dl=0'\n",
    "# !unzip -o hw_files.zip"
   ]
  },
  {
   "cell_type": "markdown",
   "metadata": {
    "id": "dDj8ZApIDnVJ"
   },
   "source": [
    "### Скачаем датасет"
   ]
  },
  {
   "cell_type": "markdown",
   "metadata": {
    "colab": {
     "base_uri": "https://localhost:8080/",
     "height": 637
    },
    "id": "vKqsIoAaDsyg",
    "outputId": "26b7a13d-736d-403e-ab0e-abf08148e24f"
   },
   "source": [
    "Датасет находится по ссылке https://disk.yandex.ru/d/iBF7MQVMWAZk2A\n",
    "\n",
    "Нужно его скачать и распаковать в папке, в которой находится ноутбук"
   ]
  },
  {
   "cell_type": "markdown",
   "metadata": {
    "id": "iDR-qEWJwccb"
   },
   "source": [
    "### Установим библиотеки"
   ]
  },
  {
   "cell_type": "code",
   "execution_count": null,
   "metadata": {
    "colab": {
     "base_uri": "https://localhost:8080/"
    },
    "id": "OwdgHUS1wccb",
    "outputId": "0b396f3e-4628-4d77-eba4-f00fd5909e08"
   },
   "outputs": [],
   "source": [
    "# !pip install torch transformers datasets tensorboard pillow"
   ]
  },
  {
   "cell_type": "code",
   "execution_count": null,
   "metadata": {
    "id": "QjHHo_eLpYMa"
   },
   "outputs": [],
   "source": [
    "import os\n",
    "\n",
    "import typing as tp\n",
    "import torch\n",
    "\n",
    "from copy import deepcopy\n",
    "from datasets import load_metric\n",
    "from torch import nn\n",
    "from torch.nn import functional as F\n",
    "from torch.utils.tensorboard.writer import SummaryWriter\n",
    "from tqdm.auto import tqdm\n",
    "\n",
    "# utils у нас появились при скачивании вспомогательного кода. При желании можно в них провалиться-поизучать\n",
    "from utils.data import init_dataloaders\n",
    "from utils.model import evaluate_model\n",
    "from utils.model import init_model_with_pretrain\n",
    "\n",
    "from torch import nn\n",
    "from transformers.models.segformer.modeling_segformer import SegformerLayer"
   ]
  },
  {
   "cell_type": "code",
   "execution_count": null,
   "metadata": {
    "id": "aXKfFbGmwccf"
   },
   "outputs": [],
   "source": [
    "teacher_path = 'runs/baseline_ckpt.pth'\n",
    "save_dir = 'runs/distillation'"
   ]
  },
  {
   "cell_type": "code",
   "execution_count": null,
   "metadata": {
    "id": "0wXrcr--wccg"
   },
   "outputs": [],
   "source": [
    "tb_writer = SummaryWriter(save_dir)"
   ]
  },
  {
   "cell_type": "code",
   "execution_count": null,
   "metadata": {
    "id": "B8GpVF2Dpkvs"
   },
   "outputs": [],
   "source": [
    "# маппинг названия классов и индексов\n",
    "id2label = {\n",
    "    0: \"background\",\n",
    "    1: \"human\",\n",
    "}\n",
    "label2id = {v: k for k, v in id2label.items()}"
   ]
  },
  {
   "cell_type": "markdown",
   "metadata": {
    "id": "_5H4Q1OK282K"
   },
   "source": [
    "Создадим лоадеры:"
   ]
  },
  {
   "cell_type": "code",
   "execution_count": null,
   "metadata": {
    "colab": {
     "base_uri": "https://localhost:8080/"
    },
    "id": "DezHZJUSqIL_",
    "outputId": "909eb073-0ccf-4f29-8d7c-2076119ec480"
   },
   "outputs": [],
   "source": [
    "train_dataloader, valid_dataloader = init_dataloaders(\n",
    "    root_dir=\".\",\n",
    "    batch_size=8,\n",
    "    num_workers=8,\n",
    ")"
   ]
  },
  {
   "cell_type": "markdown",
   "metadata": {
    "id": "kVu73sbywccj"
   },
   "source": [
    "Создадим модель учителя:"
   ]
  },
  {
   "cell_type": "code",
   "execution_count": null,
   "metadata": {
    "colab": {
     "base_uri": "https://localhost:8080/"
    },
    "id": "f9cYusOhwcck",
    "outputId": "984e0cb8-92da-4324-9681-25bc661d0e0c"
   },
   "outputs": [],
   "source": [
    "teacher_model = init_model_with_pretrain(label2id=label2id, id2label=id2label, pretrain_path=teacher_path)"
   ]
  },
  {
   "cell_type": "markdown",
   "metadata": {
    "id": "ruBhMcBYwccl"
   },
   "source": [
    "И сразу отвалидируем:"
   ]
  },
  {
   "cell_type": "code",
   "execution_count": null,
   "metadata": {
    "colab": {
     "base_uri": "https://localhost:8080/"
    },
    "id": "RBFZ4REuwccl",
    "outputId": "9f78796d-4c91-41cd-ad27-e63eb3e52f06"
   },
   "outputs": [],
   "source": [
    "evaluate_model(teacher_model, valid_dataloader, id2label)"
   ]
  },
  {
   "cell_type": "markdown",
   "metadata": {
    "id": "2ju8cc7dwccm"
   },
   "source": [
    "## Делаем ученика (10 баллов)"
   ]
  },
  {
   "cell_type": "markdown",
   "metadata": {
    "id": "DdTMgtH0wccm"
   },
   "source": [
    "### Посмотрим, как выглядит модель учителя:"
   ]
  },
  {
   "cell_type": "code",
   "execution_count": null,
   "metadata": {
    "colab": {
     "base_uri": "https://localhost:8080/"
    },
    "id": "-9tyJ9kywccm",
    "outputId": "c123dcec-72a6-4a3a-be6b-15a861ab594d"
   },
   "outputs": [],
   "source": [
    "teacher_model"
   ]
  },
  {
   "cell_type": "markdown",
   "metadata": {
    "id": "9LufoOWWwccn"
   },
   "source": [
    "Нас интересует (block): он состоит из нескольких ModuleList. Нас интересуют первые четыре. Посмотрим на первый из них:"
   ]
  },
  {
   "cell_type": "markdown",
   "metadata": {
    "id": "Uil0gBQZwccn"
   },
   "source": [
    "```\n",
    "(0): ModuleList(\n",
    "          (0): SegformerLayer(\n",
    "            .... тут много понаписано\n",
    "          )\n",
    "          (1): SegformerLayer(\n",
    "            .... и тут тоже много всего\n",
    "        )\n",
    "```"
   ]
  },
  {
   "cell_type": "markdown",
   "metadata": {
    "id": "emRJ3fRvwcco"
   },
   "source": [
    "В каждом из четырёх ModuleList сидит по два `SegformerLayer`. Нужно написать функцию, которая оставит только один (последний) из них."
   ]
  },
  {
   "cell_type": "code",
   "execution_count": null,
   "metadata": {
    "id": "hEXm29Aiwcco"
   },
   "outputs": [],
   "source": [
    "def create_small_network(model):\n",
    "    \"\"\" Оставляет только по одному SegformerLayer в каждом ModuleList\"\"\"\n",
    "    future_list_names = {}\n",
    "\n",
    "    for name, curr_module in model.named_modules():\n",
    "        if isinstance(curr_module, nn.ModuleList):\n",
    "            list_of_modules = [\n",
    "                sub_module\n",
    "                for sub_module in curr_module.children()\n",
    "                if isinstance(sub_module, SegformerLayer)\n",
    "            ]\n",
    "            if len(list_of_modules) > 1:\n",
    "                future_list_names[name] = nn.ModuleList([list_of_modules[-1]])\n",
    "\n",
    "    setattr(model.segformer.encoder, 'block', nn.ModuleList(list(future_list_names.values())))\n",
    "\n",
    "    return model\n",
    "\n",
    "def n_params(model):\n",
    "    return sum(p.numel() for p in model.parameters())"
   ]
  },
  {
   "cell_type": "code",
   "execution_count": null,
   "metadata": {
    "id": "gQJxdmRlwccp"
   },
   "outputs": [],
   "source": [
    "student_model = create_small_network(deepcopy(teacher_model))"
   ]
  },
  {
   "cell_type": "code",
   "execution_count": null,
   "metadata": {
    "colab": {
     "base_uri": "https://localhost:8080/"
    },
    "id": "XnF-e40bwccp",
    "outputId": "6f10fc06-619c-47b3-88b6-26e55ad03f0e"
   },
   "outputs": [],
   "source": [
    "# визуализируйте и убедитесь, что у вас действительно выкинуты нужные слои\n",
    "n_params(teacher_model) / n_params(student_model)"
   ]
  },
  {
   "cell_type": "markdown",
   "metadata": {
    "id": "KzLU9tZUwccp"
   },
   "source": [
    "## Train Loop"
   ]
  },
  {
   "cell_type": "markdown",
   "metadata": {
    "id": "mCyaw51Wwccq"
   },
   "source": [
    "Напишем старый-добрый трейнлуп и добавим в него дистилляционные лоссы."
   ]
  },
  {
   "cell_type": "code",
   "execution_count": null,
   "metadata": {
    "id": "vPahHGynwccq"
   },
   "outputs": [],
   "source": [
    "from dataclasses import dataclass\n",
    "\n",
    "@dataclass\n",
    "class TrainParams:\n",
    "    n_epochs: int\n",
    "    lr: float\n",
    "    batch_size: int\n",
    "    n_workers: int\n",
    "    device: torch.device\n",
    "\n",
    "    loss_weight: float\n",
    "    last_layer_loss_weight: float\n",
    "    intermediate_attn_layers_weights: tp.Tuple[float, float, float, float]\n",
    "    intermediate_feat_layers_weights: tp.Tuple[float, float, float, float]\n",
    "\n",
    "    # возможно, в ваших экспериментах захотите добавить что-то ещё"
   ]
  },
  {
   "cell_type": "markdown",
   "metadata": {
    "id": "UMbmYb87wccq"
   },
   "source": [
    "#### Домашка на поиграться-поэкспериментировать, поэтому не стесняйтесь менять параметры и выбивать скоры"
   ]
  },
  {
   "cell_type": "code",
   "execution_count": null,
   "metadata": {
    "id": "TFMkj8ODwccq"
   },
   "outputs": [],
   "source": [
    "train_params = TrainParams(\n",
    "    n_epochs=1,\n",
    "    lr=6e-5,\n",
    "    batch_size=8,\n",
    "    n_workers=8,\n",
    "    device=torch.device('cuda' if torch.cuda.is_available() else 'cpu'),\n",
    "    loss_weight=1,\n",
    "    last_layer_loss_weight=0.,\n",
    "    intermediate_attn_layers_weights=(0, 0, 0, 1.),\n",
    "    intermediate_feat_layers_weights=(0, 0, 0, 1.),\n",
    ")"
   ]
  },
  {
   "cell_type": "code",
   "execution_count": null,
   "metadata": {
    "id": "Q_T8ZKo0wccq"
   },
   "outputs": [],
   "source": [
    "def train(\n",
    "    teacher_model,\n",
    "    student_model,\n",
    "    train_params: TrainParams,\n",
    "    student_teacher_attention_mapping,\n",
    "):\n",
    "    metric = load_metric('mean_iou')\n",
    "    teacher_model.to(train_params.device)\n",
    "    student_model.to(train_params.device)\n",
    "\n",
    "    teacher_model.eval()\n",
    "\n",
    "    train_dataloader, valid_dataloader = init_dataloaders(\n",
    "        root_dir=\".\",\n",
    "        batch_size=train_params.batch_size,\n",
    "        num_workers=train_params.n_workers,\n",
    "    )\n",
    "\n",
    "    optimizer = torch.optim.AdamW(student_model.parameters(), lr=train_params.lr)\n",
    "    step = 0\n",
    "    for epoch in range(train_params.n_epochs):\n",
    "        pbar = tqdm(enumerate(train_dataloader), total=len(train_dataloader))\n",
    "        for idx, batch in pbar:\n",
    "            student_model.train()\n",
    "            # get the inputs;\n",
    "            pixel_values = batch['pixel_values'].to(train_params.device)\n",
    "            labels = batch['labels'].to(train_params.device)\n",
    "\n",
    "            optimizer.zero_grad()\n",
    "\n",
    "            # forward + backward + optimize\n",
    "            student_outputs = student_model(\n",
    "                pixel_values=pixel_values, \n",
    "                labels=labels, \n",
    "                output_attentions=True,\n",
    "                output_hidden_states=True,\n",
    "            )\n",
    "            loss, student_logits = student_outputs.loss, student_outputs.logits\n",
    "\n",
    "            # Чего это мы no_grad() при тренировке поставили?!\n",
    "            with torch.no_grad():\n",
    "                teacher_output = teacher_model(\n",
    "                    pixel_values=pixel_values, \n",
    "                    labels=labels, \n",
    "                    output_attentions=True,\n",
    "                    output_hidden_states=True,\n",
    "                )\n",
    "\n",
    "\n",
    "            last_layer_loss = calc_last_layer_loss(\n",
    "                student_logits,\n",
    "                teacher_output.logits,\n",
    "                train_params.last_layer_loss_weight,\n",
    "            )\n",
    "\n",
    "            student_attentions, teacher_attentions = student_outputs.attentions, teacher_output.attentions\n",
    "            student_hidden_states, teacher_hidden_states = student_outputs.hidden_states, teacher_output.hidden_states\n",
    "\n",
    "            intermediate_layer_att_loss = calc_intermediate_layers_attn_loss(\n",
    "                student_attentions,\n",
    "                teacher_attentions,\n",
    "                train_params.intermediate_attn_layers_weights,\n",
    "                student_teacher_attention_mapping,\n",
    "            )\n",
    "            \n",
    "            intermediate_layer_feat_loss = calc_intermediate_layers_feat_loss(\n",
    "                student_hidden_states,\n",
    "                teacher_hidden_states,\n",
    "                train_params.intermediate_feat_layers_weights,\n",
    "            )\n",
    "\n",
    "            total_loss = loss* train_params.loss_weight + last_layer_loss\n",
    "            if intermediate_layer_att_loss is not None:\n",
    "                total_loss += intermediate_layer_att_loss\n",
    "            \n",
    "            if intermediate_layer_feat_loss is not None:\n",
    "                total_loss += intermediate_layer_feat_loss\n",
    "\n",
    "            step += 1\n",
    "\n",
    "            total_loss.backward()\n",
    "            optimizer.step()\n",
    "            pbar.set_description(f'total loss: {total_loss.item():.3f}')\n",
    "\n",
    "            for loss_value, loss_name in (\n",
    "                (loss, 'loss'),\n",
    "                (total_loss, 'total_loss'),\n",
    "                (last_layer_loss, 'last_layer_loss'),\n",
    "                (intermediate_layer_att_loss, 'intermediate_layer_att_loss'),\n",
    "                (intermediate_layer_feat_loss, 'intermediate_layer_feat_loss'),\n",
    "            ):\n",
    "                if loss_value is None: # для выключенной дистилляции атеншенов\n",
    "                    continue\n",
    "                tb_writer.add_scalar(\n",
    "                    tag=loss_name,\n",
    "                    scalar_value=loss_value.item(),\n",
    "                    global_step=step,\n",
    "                )\n",
    "\n",
    "        #после модификаций модели обязательно сохраняйте ее целиком, чтобы подгрузить ее в случае чего\n",
    "        torch.save(\n",
    "            {\n",
    "                'model': student_model,\n",
    "                'state_dict': student_model.state_dict(),\n",
    "                'optimizer_state': optimizer.state_dict(),\n",
    "            },\n",
    "            f'{save_dir}/ckpt_{epoch}.pth',\n",
    "        )\n",
    "\n",
    "        eval_metrics = evaluate_model(student_model, valid_dataloader, id2label)\n",
    "\n",
    "        for metric_key, metric_value in eval_metrics.items():\n",
    "            if not isinstance(metric_value, float):\n",
    "                continue\n",
    "            tb_writer.add_scalar(\n",
    "                tag=f'eval_{metric_key}',\n",
    "                scalar_value=metric_value,\n",
    "                global_step=epoch,\n",
    "            )\n"
   ]
  },
  {
   "cell_type": "markdown",
   "metadata": {
    "id": "FDie9UHcwccr"
   },
   "source": [
    "### Лосс для дистилляции последних слоёв (10б)"
   ]
  },
  {
   "cell_type": "markdown",
   "metadata": {
    "id": "pVI75JC8wccr"
   },
   "source": [
    "Напишите функцию `calc_last_layer_loss` , которая считает лосс между последними слоями учителя и ученика."
   ]
  },
  {
   "cell_type": "code",
   "execution_count": null,
   "metadata": {
    "id": "83JFI54qwccr"
   },
   "outputs": [],
   "source": [
    "#  Вдруг эти парни нам где-то пригодятся...\n",
    "mse_loss = nn.MSELoss()\n",
    "kl_loss = nn.KLDivLoss()\n",
    "\n",
    "def calc_last_layer_loss(student_logits, teacher_logits, weight):\n",
    "    return mse_loss(student_logits, teacher_logits) * weight\n",
    "    \n",
    "\n",
    "# здесь пока не обращаем внимания, чуть позже её напишем\n",
    "def calc_intermediate_layers_attn_loss(student_logits, teacher_logits, weights, student_teacher_attention_mapping):\n",
    "    return None\n",
    "\n",
    "# здесь пока не обращаем внимания, чуть позже её напишем\n",
    "def calc_intermediate_layers_feat_loss(student_feat, teacher_feat, weights):\n",
    "    return None"
   ]
  },
  {
   "cell_type": "markdown",
   "metadata": {
    "id": "lW9ZdkNPwccs"
   },
   "source": [
    "### Включим-посмотрим, как учится"
   ]
  },
  {
   "cell_type": "code",
   "execution_count": null,
   "metadata": {
    "colab": {
     "base_uri": "https://localhost:8080/",
     "height": 927,
     "referenced_widgets": [
      "8ad0d82a5e1844298f01cfe4e454c653",
      "1725238aed0d47769f5c940f28b08fd1",
      "08b014f543844bc7ab9cb5d8a0ff9b06",
      "9ca950c0259045459dab7204516ad9ca",
      "b31a77c9baa4475b8448919b88e7fd6f",
      "397206a95b1b4f459b7f415acd8779c3",
      "04f845521ec6415caa300af136d11252",
      "23151e83a7da4541bd0449db0535506e",
      "eb8faad285b8488bbfc605402076470a",
      "f0c37e6f14224e9f8c64f049494bb925",
      "59b86a659eaa42a8b3fe423049c010d1",
      "694ea66e86014a0ab6033a78aa6c5bee",
      "cb375544d12e460b9f066f9c84c013cc",
      "f735779920194b9284275ddfe8ce644b",
      "9087c3e14b56406280c2495f2aab9121",
      "022d35b20c08415a89a7f5b90e3b31f9",
      "78eb20385ecf494a8fbb9611cbd8d3c3",
      "c7b236c5e51142e28186dbdb8195ffb2",
      "e9bd932fa62e4ea5844c1a5b69199e91",
      "53a8a255843e48ddaa273da32ccda138",
      "1f19ec67321445cbb9cb1c04ade7a1ab",
      "f452460548aa42fc8e62757ae9d254df"
     ]
    },
    "id": "dm4etSB3wccs",
    "outputId": "bd882c7a-6c86-4689-8aa3-5039404c0899"
   },
   "outputs": [],
   "source": [
    "train(\n",
    "    teacher_model=teacher_model,\n",
    "    student_model=deepcopy(student_model),\n",
    "    train_params=train_params,\n",
    "    student_teacher_attention_mapping={}, # заполним потом\n",
    ")"
   ]
  },
  {
   "cell_type": "markdown",
   "metadata": {
    "id": "uDM1R4xuwccs"
   },
   "source": [
    "### Лосс для дистилляции атеншн-мап (20б)"
   ]
  },
  {
   "cell_type": "markdown",
   "metadata": {
    "id": "XKbLlrVfwcct"
   },
   "source": [
    "Из каждого сегформер-блока можно достать атеншн-мапы:"
   ]
  },
  {
   "cell_type": "code",
   "execution_count": null,
   "metadata": {
    "id": "0uHQCGo8wcct"
   },
   "outputs": [],
   "source": [
    "with torch.no_grad():\n",
    "    teacher_attentions = teacher_model(pixel_values=torch.ones(1, 3, 512, 512).to(train_params.device), output_attentions=True).attentions\n",
    "    student_attentions = student_model(pixel_values=torch.ones(1, 3, 512, 512).to(train_params.device), output_attentions=True).attentions"
   ]
  },
  {
   "cell_type": "code",
   "execution_count": null,
   "metadata": {
    "colab": {
     "base_uri": "https://localhost:8080/"
    },
    "id": "YONDzVI2wcct",
    "outputId": "ff2b6e4c-704f-4498-89eb-6c19f7ca27d9"
   },
   "outputs": [],
   "source": [
    "teacher_attentions[0].shape"
   ]
  },
  {
   "cell_type": "code",
   "execution_count": null,
   "metadata": {
    "id": "RJ66hZ2gwcct"
   },
   "outputs": [],
   "source": [
    "assert len(teacher_attentions) == 8\n",
    "assert len(student_attentions) == 4"
   ]
  },
  {
   "cell_type": "markdown",
   "metadata": {
    "id": "-GW9ue5zwcct"
   },
   "source": [
    "Будем дистиллировать и их!\n",
    "Но у учителя у нас их целых 8, а у ученика четыре. Поэтому нужно сделать соответствие: номер какой фичемапы у ученика\n",
    "будем тянуть к какому номеру фичемапы учителя.\n",
    "\n",
    "Сделайте правильное соответствие **(10б)**:"
   ]
  },
  {
   "cell_type": "code",
   "execution_count": null,
   "metadata": {
    "id": "dCqjNM9Lwccu"
   },
   "outputs": [],
   "source": [
    "# student_teacher_attention_mapping = {\n",
    "#     100: 200 # сотая у ученика соответствует двухсотой у учителя (ответ заведомо неправильный),\n",
    "#     ... # и так несколько (сколько?) соответствий\n",
    "# }\n",
    "\n",
    "student_teacher_attention_mapping = {0: 1, 1: 3, 2: 5, 3: 7}"
   ]
  },
  {
   "cell_type": "markdown",
   "metadata": {
    "id": "7oc0XNDiwccv"
   },
   "source": [
    "Теперь напишите лосс, который принимает на вход списки фичемап ученика и учителя и тянет одно к другому. Возможно, вы захотите\n",
    "учитывать разные фичемапы с разными весами. Для этого воспользуйтесь `weights` **10б**"
   ]
  },
  {
   "cell_type": "code",
   "execution_count": null,
   "metadata": {
    "id": "_r-ljdRwwccv"
   },
   "outputs": [],
   "source": [
    "def calc_intermediate_layers_loss(student_attentions, teacher_attentions, weights, student_teacher_attention_mapping):\n",
    "    intermediate_kl_loss = 0\n",
    "    for i, (stud_attn_idx, teach_attn_idx) in enumerate(student_teacher_attention_mapping.items()):\n",
    "        intermediate_kl_loss += weights[i] * kl_loss(\n",
    "            input=torch.log(student_attentions[stud_attn_idx]),\n",
    "            target=teacher_attentions[teach_attn_idx],\n",
    "        )\n",
    "    return intermediate_kl_loss"
   ]
  },
  {
   "cell_type": "markdown",
   "metadata": {},
   "source": [
    "### Лосс для дистилляции промежуточных фиче-мап (10б)"
   ]
  },
  {
   "cell_type": "markdown",
   "metadata": {},
   "source": [
    "Помимо внимания, у вас также есть карты признаков, которые можно стягивать. Напишите лосс, который бы стягивал их. Вполне возможно, что стоит их стягивать с весами, и вполне возможно что эти веса будутотличаться от весов для внимания."
   ]
  },
  {
   "cell_type": "code",
   "execution_count": null,
   "metadata": {},
   "outputs": [],
   "source": [
    "def calc_intermediate_layers_feat_loss(student_feats, teacher_feats, weights):\n",
    "    intermediate_mse_loss = 0.\n",
    "    for i in range(len(student_feats)):\n",
    "        intermediate_mse_loss += weights[i] * mse_loss(\n",
    "            input=student_feats[i],\n",
    "            target=teacher_feats[i],\n",
    "        )\n",
    "    return intermediate_mse_loss"
   ]
  },
  {
   "cell_type": "markdown",
   "metadata": {
    "id": "ifjr8NqXwccv"
   },
   "source": [
    "### Теперь можем тренировать со стягиванием разных фич "
   ]
  },
  {
   "cell_type": "code",
   "execution_count": null,
   "metadata": {
    "colab": {
     "base_uri": "https://localhost:8080/",
     "height": 798,
     "referenced_widgets": [
      "f25d2647e2314870946df80630e0182f",
      "22c9522d0565426284fd7627e10b27ca",
      "0633e526422442e09eb31970508c10b9",
      "c447cf5571504d26ac64424aaeb61583",
      "972e7cc3e253409da6b8de25d0d5e8bb",
      "ba7171d3e9da49768527816de7ae9da7",
      "11f4590f937d4b989829a66ddd57c179",
      "3c12bee18a30441db7f670056ca48eeb",
      "fff029bc967e4678a3992e1fd0c404a2",
      "5181e7a336c74b51b3fe5ac021d64dd7",
      "5e6283a0a6be495c8883c2649b156357",
      "e5db82c5d0a345d7aab734a928db4958",
      "557b85d45211403eaa3cfe317bc10902",
      "6b18b3438d8c41ae80c4de0b4c29f0b9",
      "ca3b565d4da94f5a88b71efc962723a4",
      "9f1339b2f23c4c45bb84da41c6f78ede",
      "c7b3c79d8d5e4f248fa6e1ec8b321909",
      "843395b0d5fc4dfa996d145eace0521e",
      "bb8cb76377bd44f2a28310bb15ab6ed3",
      "f2c5d925aec043bb81d343610a016934",
      "6e6dfe7d35e54cfcb236d25ff9fe89e3",
      "608d3f8145104c7dbed43db515d7d904"
     ]
    },
    "id": "nammE-JCwccv",
    "outputId": "a5941805-b7d1-4193-8335-0876f1ab9a86",
    "scrolled": true
   },
   "outputs": [],
   "source": [
    "train(\n",
    "    teacher_model=teacher_model,\n",
    "    student_model=deepcopy(teacher_model),\n",
    "    train_params=train_params,\n",
    "    student_teacher_attention_mapping=student_teacher_attention_mapping,\n",
    ")"
   ]
  },
  {
   "cell_type": "code",
   "execution_count": null,
   "metadata": {
    "id": "W-iV9xAewccv"
   },
   "outputs": [],
   "source": []
  },
  {
   "cell_type": "markdown",
   "metadata": {
    "id": "HayjmvR-3SVV"
   },
   "source": [
    "## Отправка решения\n",
    "\n",
    "Загрузите ноутбук на образовательную платформу. Если удалось плотно поэкспериментировать — расскажите, что зашло и докинула ли вам дистилляция промежуточных слоёв"
   ]
  }
 ],
 "metadata": {
  "accelerator": "GPU",
  "colab": {
   "gpuType": "T4",
   "provenance": []
  },
  "kernelspec": {
   "display_name": "deepschool",
   "language": "python",
   "name": "deepschool"
  },
  "language_info": {
   "codemirror_mode": {
    "name": "ipython",
    "version": 3
   },
   "file_extension": ".py",
   "mimetype": "text/x-python",
   "name": "python",
   "nbconvert_exporter": "python",
   "pygments_lexer": "ipython3",
   "version": "3.10.12"
  },
  "widgets": {
   "application/vnd.jupyter.widget-state+json": {
    "022d35b20c08415a89a7f5b90e3b31f9": {
     "model_module": "@jupyter-widgets/base",
     "model_module_version": "1.2.0",
     "model_name": "LayoutModel",
     "state": {
      "_model_module": "@jupyter-widgets/base",
      "_model_module_version": "1.2.0",
      "_model_name": "LayoutModel",
      "_view_count": null,
      "_view_module": "@jupyter-widgets/base",
      "_view_module_version": "1.2.0",
      "_view_name": "LayoutView",
      "align_content": null,
      "align_items": null,
      "align_self": null,
      "border": null,
      "bottom": null,
      "display": null,
      "flex": null,
      "flex_flow": null,
      "grid_area": null,
      "grid_auto_columns": null,
      "grid_auto_flow": null,
      "grid_auto_rows": null,
      "grid_column": null,
      "grid_gap": null,
      "grid_row": null,
      "grid_template_areas": null,
      "grid_template_columns": null,
      "grid_template_rows": null,
      "height": null,
      "justify_content": null,
      "justify_items": null,
      "left": null,
      "margin": null,
      "max_height": null,
      "max_width": null,
      "min_height": null,
      "min_width": null,
      "object_fit": null,
      "object_position": null,
      "order": null,
      "overflow": null,
      "overflow_x": null,
      "overflow_y": null,
      "padding": null,
      "right": null,
      "top": null,
      "visibility": null,
      "width": null
     }
    },
    "04f845521ec6415caa300af136d11252": {
     "model_module": "@jupyter-widgets/controls",
     "model_module_version": "1.5.0",
     "model_name": "DescriptionStyleModel",
     "state": {
      "_model_module": "@jupyter-widgets/controls",
      "_model_module_version": "1.5.0",
      "_model_name": "DescriptionStyleModel",
      "_view_count": null,
      "_view_module": "@jupyter-widgets/base",
      "_view_module_version": "1.2.0",
      "_view_name": "StyleView",
      "description_width": ""
     }
    },
    "0633e526422442e09eb31970508c10b9": {
     "model_module": "@jupyter-widgets/controls",
     "model_module_version": "1.5.0",
     "model_name": "FloatProgressModel",
     "state": {
      "_dom_classes": [],
      "_model_module": "@jupyter-widgets/controls",
      "_model_module_version": "1.5.0",
      "_model_name": "FloatProgressModel",
      "_view_count": null,
      "_view_module": "@jupyter-widgets/controls",
      "_view_module_version": "1.5.0",
      "_view_name": "ProgressView",
      "bar_style": "danger",
      "description": "",
      "description_tooltip": null,
      "layout": "IPY_MODEL_3c12bee18a30441db7f670056ca48eeb",
      "max": 3443,
      "min": 0,
      "orientation": "horizontal",
      "style": "IPY_MODEL_fff029bc967e4678a3992e1fd0c404a2",
      "value": 201
     }
    },
    "08b014f543844bc7ab9cb5d8a0ff9b06": {
     "model_module": "@jupyter-widgets/controls",
     "model_module_version": "1.5.0",
     "model_name": "FloatProgressModel",
     "state": {
      "_dom_classes": [],
      "_model_module": "@jupyter-widgets/controls",
      "_model_module_version": "1.5.0",
      "_model_name": "FloatProgressModel",
      "_view_count": null,
      "_view_module": "@jupyter-widgets/controls",
      "_view_module_version": "1.5.0",
      "_view_name": "ProgressView",
      "bar_style": "danger",
      "description": "",
      "description_tooltip": null,
      "layout": "IPY_MODEL_23151e83a7da4541bd0449db0535506e",
      "max": 3443,
      "min": 0,
      "orientation": "horizontal",
      "style": "IPY_MODEL_eb8faad285b8488bbfc605402076470a",
      "value": 201
     }
    },
    "11f4590f937d4b989829a66ddd57c179": {
     "model_module": "@jupyter-widgets/controls",
     "model_module_version": "1.5.0",
     "model_name": "DescriptionStyleModel",
     "state": {
      "_model_module": "@jupyter-widgets/controls",
      "_model_module_version": "1.5.0",
      "_model_name": "DescriptionStyleModel",
      "_view_count": null,
      "_view_module": "@jupyter-widgets/base",
      "_view_module_version": "1.2.0",
      "_view_name": "StyleView",
      "description_width": ""
     }
    },
    "1725238aed0d47769f5c940f28b08fd1": {
     "model_module": "@jupyter-widgets/controls",
     "model_module_version": "1.5.0",
     "model_name": "HTMLModel",
     "state": {
      "_dom_classes": [],
      "_model_module": "@jupyter-widgets/controls",
      "_model_module_version": "1.5.0",
      "_model_name": "HTMLModel",
      "_view_count": null,
      "_view_module": "@jupyter-widgets/controls",
      "_view_module_version": "1.5.0",
      "_view_name": "HTMLView",
      "description": "",
      "description_tooltip": null,
      "layout": "IPY_MODEL_397206a95b1b4f459b7f415acd8779c3",
      "placeholder": "​",
      "style": "IPY_MODEL_04f845521ec6415caa300af136d11252",
      "value": "total loss: 0.047:   6%"
     }
    },
    "1f19ec67321445cbb9cb1c04ade7a1ab": {
     "model_module": "@jupyter-widgets/base",
     "model_module_version": "1.2.0",
     "model_name": "LayoutModel",
     "state": {
      "_model_module": "@jupyter-widgets/base",
      "_model_module_version": "1.2.0",
      "_model_name": "LayoutModel",
      "_view_count": null,
      "_view_module": "@jupyter-widgets/base",
      "_view_module_version": "1.2.0",
      "_view_name": "LayoutView",
      "align_content": null,
      "align_items": null,
      "align_self": null,
      "border": null,
      "bottom": null,
      "display": null,
      "flex": null,
      "flex_flow": null,
      "grid_area": null,
      "grid_auto_columns": null,
      "grid_auto_flow": null,
      "grid_auto_rows": null,
      "grid_column": null,
      "grid_gap": null,
      "grid_row": null,
      "grid_template_areas": null,
      "grid_template_columns": null,
      "grid_template_rows": null,
      "height": null,
      "justify_content": null,
      "justify_items": null,
      "left": null,
      "margin": null,
      "max_height": null,
      "max_width": null,
      "min_height": null,
      "min_width": null,
      "object_fit": null,
      "object_position": null,
      "order": null,
      "overflow": null,
      "overflow_x": null,
      "overflow_y": null,
      "padding": null,
      "right": null,
      "top": null,
      "visibility": null,
      "width": null
     }
    },
    "22c9522d0565426284fd7627e10b27ca": {
     "model_module": "@jupyter-widgets/controls",
     "model_module_version": "1.5.0",
     "model_name": "HTMLModel",
     "state": {
      "_dom_classes": [],
      "_model_module": "@jupyter-widgets/controls",
      "_model_module_version": "1.5.0",
      "_model_name": "HTMLModel",
      "_view_count": null,
      "_view_module": "@jupyter-widgets/controls",
      "_view_module_version": "1.5.0",
      "_view_name": "HTMLView",
      "description": "",
      "description_tooltip": null,
      "layout": "IPY_MODEL_ba7171d3e9da49768527816de7ae9da7",
      "placeholder": "​",
      "style": "IPY_MODEL_11f4590f937d4b989829a66ddd57c179",
      "value": "total loss: 0.046:   6%"
     }
    },
    "23151e83a7da4541bd0449db0535506e": {
     "model_module": "@jupyter-widgets/base",
     "model_module_version": "1.2.0",
     "model_name": "LayoutModel",
     "state": {
      "_model_module": "@jupyter-widgets/base",
      "_model_module_version": "1.2.0",
      "_model_name": "LayoutModel",
      "_view_count": null,
      "_view_module": "@jupyter-widgets/base",
      "_view_module_version": "1.2.0",
      "_view_name": "LayoutView",
      "align_content": null,
      "align_items": null,
      "align_self": null,
      "border": null,
      "bottom": null,
      "display": null,
      "flex": null,
      "flex_flow": null,
      "grid_area": null,
      "grid_auto_columns": null,
      "grid_auto_flow": null,
      "grid_auto_rows": null,
      "grid_column": null,
      "grid_gap": null,
      "grid_row": null,
      "grid_template_areas": null,
      "grid_template_columns": null,
      "grid_template_rows": null,
      "height": null,
      "justify_content": null,
      "justify_items": null,
      "left": null,
      "margin": null,
      "max_height": null,
      "max_width": null,
      "min_height": null,
      "min_width": null,
      "object_fit": null,
      "object_position": null,
      "order": null,
      "overflow": null,
      "overflow_x": null,
      "overflow_y": null,
      "padding": null,
      "right": null,
      "top": null,
      "visibility": null,
      "width": null
     }
    },
    "397206a95b1b4f459b7f415acd8779c3": {
     "model_module": "@jupyter-widgets/base",
     "model_module_version": "1.2.0",
     "model_name": "LayoutModel",
     "state": {
      "_model_module": "@jupyter-widgets/base",
      "_model_module_version": "1.2.0",
      "_model_name": "LayoutModel",
      "_view_count": null,
      "_view_module": "@jupyter-widgets/base",
      "_view_module_version": "1.2.0",
      "_view_name": "LayoutView",
      "align_content": null,
      "align_items": null,
      "align_self": null,
      "border": null,
      "bottom": null,
      "display": null,
      "flex": null,
      "flex_flow": null,
      "grid_area": null,
      "grid_auto_columns": null,
      "grid_auto_flow": null,
      "grid_auto_rows": null,
      "grid_column": null,
      "grid_gap": null,
      "grid_row": null,
      "grid_template_areas": null,
      "grid_template_columns": null,
      "grid_template_rows": null,
      "height": null,
      "justify_content": null,
      "justify_items": null,
      "left": null,
      "margin": null,
      "max_height": null,
      "max_width": null,
      "min_height": null,
      "min_width": null,
      "object_fit": null,
      "object_position": null,
      "order": null,
      "overflow": null,
      "overflow_x": null,
      "overflow_y": null,
      "padding": null,
      "right": null,
      "top": null,
      "visibility": null,
      "width": null
     }
    },
    "3c12bee18a30441db7f670056ca48eeb": {
     "model_module": "@jupyter-widgets/base",
     "model_module_version": "1.2.0",
     "model_name": "LayoutModel",
     "state": {
      "_model_module": "@jupyter-widgets/base",
      "_model_module_version": "1.2.0",
      "_model_name": "LayoutModel",
      "_view_count": null,
      "_view_module": "@jupyter-widgets/base",
      "_view_module_version": "1.2.0",
      "_view_name": "LayoutView",
      "align_content": null,
      "align_items": null,
      "align_self": null,
      "border": null,
      "bottom": null,
      "display": null,
      "flex": null,
      "flex_flow": null,
      "grid_area": null,
      "grid_auto_columns": null,
      "grid_auto_flow": null,
      "grid_auto_rows": null,
      "grid_column": null,
      "grid_gap": null,
      "grid_row": null,
      "grid_template_areas": null,
      "grid_template_columns": null,
      "grid_template_rows": null,
      "height": null,
      "justify_content": null,
      "justify_items": null,
      "left": null,
      "margin": null,
      "max_height": null,
      "max_width": null,
      "min_height": null,
      "min_width": null,
      "object_fit": null,
      "object_position": null,
      "order": null,
      "overflow": null,
      "overflow_x": null,
      "overflow_y": null,
      "padding": null,
      "right": null,
      "top": null,
      "visibility": null,
      "width": null
     }
    },
    "5181e7a336c74b51b3fe5ac021d64dd7": {
     "model_module": "@jupyter-widgets/base",
     "model_module_version": "1.2.0",
     "model_name": "LayoutModel",
     "state": {
      "_model_module": "@jupyter-widgets/base",
      "_model_module_version": "1.2.0",
      "_model_name": "LayoutModel",
      "_view_count": null,
      "_view_module": "@jupyter-widgets/base",
      "_view_module_version": "1.2.0",
      "_view_name": "LayoutView",
      "align_content": null,
      "align_items": null,
      "align_self": null,
      "border": null,
      "bottom": null,
      "display": null,
      "flex": null,
      "flex_flow": null,
      "grid_area": null,
      "grid_auto_columns": null,
      "grid_auto_flow": null,
      "grid_auto_rows": null,
      "grid_column": null,
      "grid_gap": null,
      "grid_row": null,
      "grid_template_areas": null,
      "grid_template_columns": null,
      "grid_template_rows": null,
      "height": null,
      "justify_content": null,
      "justify_items": null,
      "left": null,
      "margin": null,
      "max_height": null,
      "max_width": null,
      "min_height": null,
      "min_width": null,
      "object_fit": null,
      "object_position": null,
      "order": null,
      "overflow": null,
      "overflow_x": null,
      "overflow_y": null,
      "padding": null,
      "right": null,
      "top": null,
      "visibility": null,
      "width": null
     }
    },
    "53a8a255843e48ddaa273da32ccda138": {
     "model_module": "@jupyter-widgets/controls",
     "model_module_version": "1.5.0",
     "model_name": "ProgressStyleModel",
     "state": {
      "_model_module": "@jupyter-widgets/controls",
      "_model_module_version": "1.5.0",
      "_model_name": "ProgressStyleModel",
      "_view_count": null,
      "_view_module": "@jupyter-widgets/base",
      "_view_module_version": "1.2.0",
      "_view_name": "StyleView",
      "bar_color": null,
      "description_width": ""
     }
    },
    "557b85d45211403eaa3cfe317bc10902": {
     "model_module": "@jupyter-widgets/controls",
     "model_module_version": "1.5.0",
     "model_name": "HTMLModel",
     "state": {
      "_dom_classes": [],
      "_model_module": "@jupyter-widgets/controls",
      "_model_module_version": "1.5.0",
      "_model_name": "HTMLModel",
      "_view_count": null,
      "_view_module": "@jupyter-widgets/controls",
      "_view_module_version": "1.5.0",
      "_view_name": "HTMLView",
      "description": "",
      "description_tooltip": null,
      "layout": "IPY_MODEL_c7b3c79d8d5e4f248fa6e1ec8b321909",
      "placeholder": "​",
      "style": "IPY_MODEL_843395b0d5fc4dfa996d145eace0521e",
      "value": "total loss: 0.054:   1%"
     }
    },
    "59b86a659eaa42a8b3fe423049c010d1": {
     "model_module": "@jupyter-widgets/controls",
     "model_module_version": "1.5.0",
     "model_name": "DescriptionStyleModel",
     "state": {
      "_model_module": "@jupyter-widgets/controls",
      "_model_module_version": "1.5.0",
      "_model_name": "DescriptionStyleModel",
      "_view_count": null,
      "_view_module": "@jupyter-widgets/base",
      "_view_module_version": "1.2.0",
      "_view_name": "StyleView",
      "description_width": ""
     }
    },
    "5e6283a0a6be495c8883c2649b156357": {
     "model_module": "@jupyter-widgets/controls",
     "model_module_version": "1.5.0",
     "model_name": "DescriptionStyleModel",
     "state": {
      "_model_module": "@jupyter-widgets/controls",
      "_model_module_version": "1.5.0",
      "_model_name": "DescriptionStyleModel",
      "_view_count": null,
      "_view_module": "@jupyter-widgets/base",
      "_view_module_version": "1.2.0",
      "_view_name": "StyleView",
      "description_width": ""
     }
    },
    "608d3f8145104c7dbed43db515d7d904": {
     "model_module": "@jupyter-widgets/controls",
     "model_module_version": "1.5.0",
     "model_name": "DescriptionStyleModel",
     "state": {
      "_model_module": "@jupyter-widgets/controls",
      "_model_module_version": "1.5.0",
      "_model_name": "DescriptionStyleModel",
      "_view_count": null,
      "_view_module": "@jupyter-widgets/base",
      "_view_module_version": "1.2.0",
      "_view_name": "StyleView",
      "description_width": ""
     }
    },
    "694ea66e86014a0ab6033a78aa6c5bee": {
     "model_module": "@jupyter-widgets/controls",
     "model_module_version": "1.5.0",
     "model_name": "HBoxModel",
     "state": {
      "_dom_classes": [],
      "_model_module": "@jupyter-widgets/controls",
      "_model_module_version": "1.5.0",
      "_model_name": "HBoxModel",
      "_view_count": null,
      "_view_module": "@jupyter-widgets/controls",
      "_view_module_version": "1.5.0",
      "_view_name": "HBoxView",
      "box_style": "",
      "children": [
       "IPY_MODEL_cb375544d12e460b9f066f9c84c013cc",
       "IPY_MODEL_f735779920194b9284275ddfe8ce644b",
       "IPY_MODEL_9087c3e14b56406280c2495f2aab9121"
      ],
      "layout": "IPY_MODEL_022d35b20c08415a89a7f5b90e3b31f9"
     }
    },
    "6b18b3438d8c41ae80c4de0b4c29f0b9": {
     "model_module": "@jupyter-widgets/controls",
     "model_module_version": "1.5.0",
     "model_name": "FloatProgressModel",
     "state": {
      "_dom_classes": [],
      "_model_module": "@jupyter-widgets/controls",
      "_model_module_version": "1.5.0",
      "_model_name": "FloatProgressModel",
      "_view_count": null,
      "_view_module": "@jupyter-widgets/controls",
      "_view_module_version": "1.5.0",
      "_view_name": "ProgressView",
      "bar_style": "danger",
      "description": "",
      "description_tooltip": null,
      "layout": "IPY_MODEL_bb8cb76377bd44f2a28310bb15ab6ed3",
      "max": 3443,
      "min": 0,
      "orientation": "horizontal",
      "style": "IPY_MODEL_f2c5d925aec043bb81d343610a016934",
      "value": 39
     }
    },
    "6e6dfe7d35e54cfcb236d25ff9fe89e3": {
     "model_module": "@jupyter-widgets/base",
     "model_module_version": "1.2.0",
     "model_name": "LayoutModel",
     "state": {
      "_model_module": "@jupyter-widgets/base",
      "_model_module_version": "1.2.0",
      "_model_name": "LayoutModel",
      "_view_count": null,
      "_view_module": "@jupyter-widgets/base",
      "_view_module_version": "1.2.0",
      "_view_name": "LayoutView",
      "align_content": null,
      "align_items": null,
      "align_self": null,
      "border": null,
      "bottom": null,
      "display": null,
      "flex": null,
      "flex_flow": null,
      "grid_area": null,
      "grid_auto_columns": null,
      "grid_auto_flow": null,
      "grid_auto_rows": null,
      "grid_column": null,
      "grid_gap": null,
      "grid_row": null,
      "grid_template_areas": null,
      "grid_template_columns": null,
      "grid_template_rows": null,
      "height": null,
      "justify_content": null,
      "justify_items": null,
      "left": null,
      "margin": null,
      "max_height": null,
      "max_width": null,
      "min_height": null,
      "min_width": null,
      "object_fit": null,
      "object_position": null,
      "order": null,
      "overflow": null,
      "overflow_x": null,
      "overflow_y": null,
      "padding": null,
      "right": null,
      "top": null,
      "visibility": null,
      "width": null
     }
    },
    "78eb20385ecf494a8fbb9611cbd8d3c3": {
     "model_module": "@jupyter-widgets/base",
     "model_module_version": "1.2.0",
     "model_name": "LayoutModel",
     "state": {
      "_model_module": "@jupyter-widgets/base",
      "_model_module_version": "1.2.0",
      "_model_name": "LayoutModel",
      "_view_count": null,
      "_view_module": "@jupyter-widgets/base",
      "_view_module_version": "1.2.0",
      "_view_name": "LayoutView",
      "align_content": null,
      "align_items": null,
      "align_self": null,
      "border": null,
      "bottom": null,
      "display": null,
      "flex": null,
      "flex_flow": null,
      "grid_area": null,
      "grid_auto_columns": null,
      "grid_auto_flow": null,
      "grid_auto_rows": null,
      "grid_column": null,
      "grid_gap": null,
      "grid_row": null,
      "grid_template_areas": null,
      "grid_template_columns": null,
      "grid_template_rows": null,
      "height": null,
      "justify_content": null,
      "justify_items": null,
      "left": null,
      "margin": null,
      "max_height": null,
      "max_width": null,
      "min_height": null,
      "min_width": null,
      "object_fit": null,
      "object_position": null,
      "order": null,
      "overflow": null,
      "overflow_x": null,
      "overflow_y": null,
      "padding": null,
      "right": null,
      "top": null,
      "visibility": null,
      "width": null
     }
    },
    "843395b0d5fc4dfa996d145eace0521e": {
     "model_module": "@jupyter-widgets/controls",
     "model_module_version": "1.5.0",
     "model_name": "DescriptionStyleModel",
     "state": {
      "_model_module": "@jupyter-widgets/controls",
      "_model_module_version": "1.5.0",
      "_model_name": "DescriptionStyleModel",
      "_view_count": null,
      "_view_module": "@jupyter-widgets/base",
      "_view_module_version": "1.2.0",
      "_view_name": "StyleView",
      "description_width": ""
     }
    },
    "8ad0d82a5e1844298f01cfe4e454c653": {
     "model_module": "@jupyter-widgets/controls",
     "model_module_version": "1.5.0",
     "model_name": "HBoxModel",
     "state": {
      "_dom_classes": [],
      "_model_module": "@jupyter-widgets/controls",
      "_model_module_version": "1.5.0",
      "_model_name": "HBoxModel",
      "_view_count": null,
      "_view_module": "@jupyter-widgets/controls",
      "_view_module_version": "1.5.0",
      "_view_name": "HBoxView",
      "box_style": "",
      "children": [
       "IPY_MODEL_1725238aed0d47769f5c940f28b08fd1",
       "IPY_MODEL_08b014f543844bc7ab9cb5d8a0ff9b06",
       "IPY_MODEL_9ca950c0259045459dab7204516ad9ca"
      ],
      "layout": "IPY_MODEL_b31a77c9baa4475b8448919b88e7fd6f"
     }
    },
    "9087c3e14b56406280c2495f2aab9121": {
     "model_module": "@jupyter-widgets/controls",
     "model_module_version": "1.5.0",
     "model_name": "HTMLModel",
     "state": {
      "_dom_classes": [],
      "_model_module": "@jupyter-widgets/controls",
      "_model_module_version": "1.5.0",
      "_model_name": "HTMLModel",
      "_view_count": null,
      "_view_module": "@jupyter-widgets/controls",
      "_view_module_version": "1.5.0",
      "_view_name": "HTMLView",
      "description": "",
      "description_tooltip": null,
      "layout": "IPY_MODEL_1f19ec67321445cbb9cb1c04ade7a1ab",
      "placeholder": "​",
      "style": "IPY_MODEL_f452460548aa42fc8e62757ae9d254df",
      "value": " 201/3443 [01:35&lt;27:41,  1.95it/s]"
     }
    },
    "972e7cc3e253409da6b8de25d0d5e8bb": {
     "model_module": "@jupyter-widgets/base",
     "model_module_version": "1.2.0",
     "model_name": "LayoutModel",
     "state": {
      "_model_module": "@jupyter-widgets/base",
      "_model_module_version": "1.2.0",
      "_model_name": "LayoutModel",
      "_view_count": null,
      "_view_module": "@jupyter-widgets/base",
      "_view_module_version": "1.2.0",
      "_view_name": "LayoutView",
      "align_content": null,
      "align_items": null,
      "align_self": null,
      "border": null,
      "bottom": null,
      "display": null,
      "flex": null,
      "flex_flow": null,
      "grid_area": null,
      "grid_auto_columns": null,
      "grid_auto_flow": null,
      "grid_auto_rows": null,
      "grid_column": null,
      "grid_gap": null,
      "grid_row": null,
      "grid_template_areas": null,
      "grid_template_columns": null,
      "grid_template_rows": null,
      "height": null,
      "justify_content": null,
      "justify_items": null,
      "left": null,
      "margin": null,
      "max_height": null,
      "max_width": null,
      "min_height": null,
      "min_width": null,
      "object_fit": null,
      "object_position": null,
      "order": null,
      "overflow": null,
      "overflow_x": null,
      "overflow_y": null,
      "padding": null,
      "right": null,
      "top": null,
      "visibility": null,
      "width": null
     }
    },
    "9ca950c0259045459dab7204516ad9ca": {
     "model_module": "@jupyter-widgets/controls",
     "model_module_version": "1.5.0",
     "model_name": "HTMLModel",
     "state": {
      "_dom_classes": [],
      "_model_module": "@jupyter-widgets/controls",
      "_model_module_version": "1.5.0",
      "_model_name": "HTMLModel",
      "_view_count": null,
      "_view_module": "@jupyter-widgets/controls",
      "_view_module_version": "1.5.0",
      "_view_name": "HTMLView",
      "description": "",
      "description_tooltip": null,
      "layout": "IPY_MODEL_f0c37e6f14224e9f8c64f049494bb925",
      "placeholder": "​",
      "style": "IPY_MODEL_59b86a659eaa42a8b3fe423049c010d1",
      "value": " 201/3443 [01:36&lt;22:30,  2.40it/s]"
     }
    },
    "9f1339b2f23c4c45bb84da41c6f78ede": {
     "model_module": "@jupyter-widgets/base",
     "model_module_version": "1.2.0",
     "model_name": "LayoutModel",
     "state": {
      "_model_module": "@jupyter-widgets/base",
      "_model_module_version": "1.2.0",
      "_model_name": "LayoutModel",
      "_view_count": null,
      "_view_module": "@jupyter-widgets/base",
      "_view_module_version": "1.2.0",
      "_view_name": "LayoutView",
      "align_content": null,
      "align_items": null,
      "align_self": null,
      "border": null,
      "bottom": null,
      "display": null,
      "flex": null,
      "flex_flow": null,
      "grid_area": null,
      "grid_auto_columns": null,
      "grid_auto_flow": null,
      "grid_auto_rows": null,
      "grid_column": null,
      "grid_gap": null,
      "grid_row": null,
      "grid_template_areas": null,
      "grid_template_columns": null,
      "grid_template_rows": null,
      "height": null,
      "justify_content": null,
      "justify_items": null,
      "left": null,
      "margin": null,
      "max_height": null,
      "max_width": null,
      "min_height": null,
      "min_width": null,
      "object_fit": null,
      "object_position": null,
      "order": null,
      "overflow": null,
      "overflow_x": null,
      "overflow_y": null,
      "padding": null,
      "right": null,
      "top": null,
      "visibility": null,
      "width": null
     }
    },
    "b31a77c9baa4475b8448919b88e7fd6f": {
     "model_module": "@jupyter-widgets/base",
     "model_module_version": "1.2.0",
     "model_name": "LayoutModel",
     "state": {
      "_model_module": "@jupyter-widgets/base",
      "_model_module_version": "1.2.0",
      "_model_name": "LayoutModel",
      "_view_count": null,
      "_view_module": "@jupyter-widgets/base",
      "_view_module_version": "1.2.0",
      "_view_name": "LayoutView",
      "align_content": null,
      "align_items": null,
      "align_self": null,
      "border": null,
      "bottom": null,
      "display": null,
      "flex": null,
      "flex_flow": null,
      "grid_area": null,
      "grid_auto_columns": null,
      "grid_auto_flow": null,
      "grid_auto_rows": null,
      "grid_column": null,
      "grid_gap": null,
      "grid_row": null,
      "grid_template_areas": null,
      "grid_template_columns": null,
      "grid_template_rows": null,
      "height": null,
      "justify_content": null,
      "justify_items": null,
      "left": null,
      "margin": null,
      "max_height": null,
      "max_width": null,
      "min_height": null,
      "min_width": null,
      "object_fit": null,
      "object_position": null,
      "order": null,
      "overflow": null,
      "overflow_x": null,
      "overflow_y": null,
      "padding": null,
      "right": null,
      "top": null,
      "visibility": null,
      "width": null
     }
    },
    "ba7171d3e9da49768527816de7ae9da7": {
     "model_module": "@jupyter-widgets/base",
     "model_module_version": "1.2.0",
     "model_name": "LayoutModel",
     "state": {
      "_model_module": "@jupyter-widgets/base",
      "_model_module_version": "1.2.0",
      "_model_name": "LayoutModel",
      "_view_count": null,
      "_view_module": "@jupyter-widgets/base",
      "_view_module_version": "1.2.0",
      "_view_name": "LayoutView",
      "align_content": null,
      "align_items": null,
      "align_self": null,
      "border": null,
      "bottom": null,
      "display": null,
      "flex": null,
      "flex_flow": null,
      "grid_area": null,
      "grid_auto_columns": null,
      "grid_auto_flow": null,
      "grid_auto_rows": null,
      "grid_column": null,
      "grid_gap": null,
      "grid_row": null,
      "grid_template_areas": null,
      "grid_template_columns": null,
      "grid_template_rows": null,
      "height": null,
      "justify_content": null,
      "justify_items": null,
      "left": null,
      "margin": null,
      "max_height": null,
      "max_width": null,
      "min_height": null,
      "min_width": null,
      "object_fit": null,
      "object_position": null,
      "order": null,
      "overflow": null,
      "overflow_x": null,
      "overflow_y": null,
      "padding": null,
      "right": null,
      "top": null,
      "visibility": null,
      "width": null
     }
    },
    "bb8cb76377bd44f2a28310bb15ab6ed3": {
     "model_module": "@jupyter-widgets/base",
     "model_module_version": "1.2.0",
     "model_name": "LayoutModel",
     "state": {
      "_model_module": "@jupyter-widgets/base",
      "_model_module_version": "1.2.0",
      "_model_name": "LayoutModel",
      "_view_count": null,
      "_view_module": "@jupyter-widgets/base",
      "_view_module_version": "1.2.0",
      "_view_name": "LayoutView",
      "align_content": null,
      "align_items": null,
      "align_self": null,
      "border": null,
      "bottom": null,
      "display": null,
      "flex": null,
      "flex_flow": null,
      "grid_area": null,
      "grid_auto_columns": null,
      "grid_auto_flow": null,
      "grid_auto_rows": null,
      "grid_column": null,
      "grid_gap": null,
      "grid_row": null,
      "grid_template_areas": null,
      "grid_template_columns": null,
      "grid_template_rows": null,
      "height": null,
      "justify_content": null,
      "justify_items": null,
      "left": null,
      "margin": null,
      "max_height": null,
      "max_width": null,
      "min_height": null,
      "min_width": null,
      "object_fit": null,
      "object_position": null,
      "order": null,
      "overflow": null,
      "overflow_x": null,
      "overflow_y": null,
      "padding": null,
      "right": null,
      "top": null,
      "visibility": null,
      "width": null
     }
    },
    "c447cf5571504d26ac64424aaeb61583": {
     "model_module": "@jupyter-widgets/controls",
     "model_module_version": "1.5.0",
     "model_name": "HTMLModel",
     "state": {
      "_dom_classes": [],
      "_model_module": "@jupyter-widgets/controls",
      "_model_module_version": "1.5.0",
      "_model_name": "HTMLModel",
      "_view_count": null,
      "_view_module": "@jupyter-widgets/controls",
      "_view_module_version": "1.5.0",
      "_view_name": "HTMLView",
      "description": "",
      "description_tooltip": null,
      "layout": "IPY_MODEL_5181e7a336c74b51b3fe5ac021d64dd7",
      "placeholder": "​",
      "style": "IPY_MODEL_5e6283a0a6be495c8883c2649b156357",
      "value": " 201/3443 [01:37&lt;23:39,  2.28it/s]"
     }
    },
    "c7b236c5e51142e28186dbdb8195ffb2": {
     "model_module": "@jupyter-widgets/controls",
     "model_module_version": "1.5.0",
     "model_name": "DescriptionStyleModel",
     "state": {
      "_model_module": "@jupyter-widgets/controls",
      "_model_module_version": "1.5.0",
      "_model_name": "DescriptionStyleModel",
      "_view_count": null,
      "_view_module": "@jupyter-widgets/base",
      "_view_module_version": "1.2.0",
      "_view_name": "StyleView",
      "description_width": ""
     }
    },
    "c7b3c79d8d5e4f248fa6e1ec8b321909": {
     "model_module": "@jupyter-widgets/base",
     "model_module_version": "1.2.0",
     "model_name": "LayoutModel",
     "state": {
      "_model_module": "@jupyter-widgets/base",
      "_model_module_version": "1.2.0",
      "_model_name": "LayoutModel",
      "_view_count": null,
      "_view_module": "@jupyter-widgets/base",
      "_view_module_version": "1.2.0",
      "_view_name": "LayoutView",
      "align_content": null,
      "align_items": null,
      "align_self": null,
      "border": null,
      "bottom": null,
      "display": null,
      "flex": null,
      "flex_flow": null,
      "grid_area": null,
      "grid_auto_columns": null,
      "grid_auto_flow": null,
      "grid_auto_rows": null,
      "grid_column": null,
      "grid_gap": null,
      "grid_row": null,
      "grid_template_areas": null,
      "grid_template_columns": null,
      "grid_template_rows": null,
      "height": null,
      "justify_content": null,
      "justify_items": null,
      "left": null,
      "margin": null,
      "max_height": null,
      "max_width": null,
      "min_height": null,
      "min_width": null,
      "object_fit": null,
      "object_position": null,
      "order": null,
      "overflow": null,
      "overflow_x": null,
      "overflow_y": null,
      "padding": null,
      "right": null,
      "top": null,
      "visibility": null,
      "width": null
     }
    },
    "ca3b565d4da94f5a88b71efc962723a4": {
     "model_module": "@jupyter-widgets/controls",
     "model_module_version": "1.5.0",
     "model_name": "HTMLModel",
     "state": {
      "_dom_classes": [],
      "_model_module": "@jupyter-widgets/controls",
      "_model_module_version": "1.5.0",
      "_model_name": "HTMLModel",
      "_view_count": null,
      "_view_module": "@jupyter-widgets/controls",
      "_view_module_version": "1.5.0",
      "_view_name": "HTMLView",
      "description": "",
      "description_tooltip": null,
      "layout": "IPY_MODEL_6e6dfe7d35e54cfcb236d25ff9fe89e3",
      "placeholder": "​",
      "style": "IPY_MODEL_608d3f8145104c7dbed43db515d7d904",
      "value": " 39/3443 [00:24&lt;26:06,  2.17it/s]"
     }
    },
    "cb375544d12e460b9f066f9c84c013cc": {
     "model_module": "@jupyter-widgets/controls",
     "model_module_version": "1.5.0",
     "model_name": "HTMLModel",
     "state": {
      "_dom_classes": [],
      "_model_module": "@jupyter-widgets/controls",
      "_model_module_version": "1.5.0",
      "_model_name": "HTMLModel",
      "_view_count": null,
      "_view_module": "@jupyter-widgets/controls",
      "_view_module_version": "1.5.0",
      "_view_name": "HTMLView",
      "description": "",
      "description_tooltip": null,
      "layout": "IPY_MODEL_78eb20385ecf494a8fbb9611cbd8d3c3",
      "placeholder": "​",
      "style": "IPY_MODEL_c7b236c5e51142e28186dbdb8195ffb2",
      "value": "total loss: 0.045:   6%"
     }
    },
    "e5db82c5d0a345d7aab734a928db4958": {
     "model_module": "@jupyter-widgets/controls",
     "model_module_version": "1.5.0",
     "model_name": "HBoxModel",
     "state": {
      "_dom_classes": [],
      "_model_module": "@jupyter-widgets/controls",
      "_model_module_version": "1.5.0",
      "_model_name": "HBoxModel",
      "_view_count": null,
      "_view_module": "@jupyter-widgets/controls",
      "_view_module_version": "1.5.0",
      "_view_name": "HBoxView",
      "box_style": "",
      "children": [
       "IPY_MODEL_557b85d45211403eaa3cfe317bc10902",
       "IPY_MODEL_6b18b3438d8c41ae80c4de0b4c29f0b9",
       "IPY_MODEL_ca3b565d4da94f5a88b71efc962723a4"
      ],
      "layout": "IPY_MODEL_9f1339b2f23c4c45bb84da41c6f78ede"
     }
    },
    "e9bd932fa62e4ea5844c1a5b69199e91": {
     "model_module": "@jupyter-widgets/base",
     "model_module_version": "1.2.0",
     "model_name": "LayoutModel",
     "state": {
      "_model_module": "@jupyter-widgets/base",
      "_model_module_version": "1.2.0",
      "_model_name": "LayoutModel",
      "_view_count": null,
      "_view_module": "@jupyter-widgets/base",
      "_view_module_version": "1.2.0",
      "_view_name": "LayoutView",
      "align_content": null,
      "align_items": null,
      "align_self": null,
      "border": null,
      "bottom": null,
      "display": null,
      "flex": null,
      "flex_flow": null,
      "grid_area": null,
      "grid_auto_columns": null,
      "grid_auto_flow": null,
      "grid_auto_rows": null,
      "grid_column": null,
      "grid_gap": null,
      "grid_row": null,
      "grid_template_areas": null,
      "grid_template_columns": null,
      "grid_template_rows": null,
      "height": null,
      "justify_content": null,
      "justify_items": null,
      "left": null,
      "margin": null,
      "max_height": null,
      "max_width": null,
      "min_height": null,
      "min_width": null,
      "object_fit": null,
      "object_position": null,
      "order": null,
      "overflow": null,
      "overflow_x": null,
      "overflow_y": null,
      "padding": null,
      "right": null,
      "top": null,
      "visibility": null,
      "width": null
     }
    },
    "eb8faad285b8488bbfc605402076470a": {
     "model_module": "@jupyter-widgets/controls",
     "model_module_version": "1.5.0",
     "model_name": "ProgressStyleModel",
     "state": {
      "_model_module": "@jupyter-widgets/controls",
      "_model_module_version": "1.5.0",
      "_model_name": "ProgressStyleModel",
      "_view_count": null,
      "_view_module": "@jupyter-widgets/base",
      "_view_module_version": "1.2.0",
      "_view_name": "StyleView",
      "bar_color": null,
      "description_width": ""
     }
    },
    "f0c37e6f14224e9f8c64f049494bb925": {
     "model_module": "@jupyter-widgets/base",
     "model_module_version": "1.2.0",
     "model_name": "LayoutModel",
     "state": {
      "_model_module": "@jupyter-widgets/base",
      "_model_module_version": "1.2.0",
      "_model_name": "LayoutModel",
      "_view_count": null,
      "_view_module": "@jupyter-widgets/base",
      "_view_module_version": "1.2.0",
      "_view_name": "LayoutView",
      "align_content": null,
      "align_items": null,
      "align_self": null,
      "border": null,
      "bottom": null,
      "display": null,
      "flex": null,
      "flex_flow": null,
      "grid_area": null,
      "grid_auto_columns": null,
      "grid_auto_flow": null,
      "grid_auto_rows": null,
      "grid_column": null,
      "grid_gap": null,
      "grid_row": null,
      "grid_template_areas": null,
      "grid_template_columns": null,
      "grid_template_rows": null,
      "height": null,
      "justify_content": null,
      "justify_items": null,
      "left": null,
      "margin": null,
      "max_height": null,
      "max_width": null,
      "min_height": null,
      "min_width": null,
      "object_fit": null,
      "object_position": null,
      "order": null,
      "overflow": null,
      "overflow_x": null,
      "overflow_y": null,
      "padding": null,
      "right": null,
      "top": null,
      "visibility": null,
      "width": null
     }
    },
    "f25d2647e2314870946df80630e0182f": {
     "model_module": "@jupyter-widgets/controls",
     "model_module_version": "1.5.0",
     "model_name": "HBoxModel",
     "state": {
      "_dom_classes": [],
      "_model_module": "@jupyter-widgets/controls",
      "_model_module_version": "1.5.0",
      "_model_name": "HBoxModel",
      "_view_count": null,
      "_view_module": "@jupyter-widgets/controls",
      "_view_module_version": "1.5.0",
      "_view_name": "HBoxView",
      "box_style": "",
      "children": [
       "IPY_MODEL_22c9522d0565426284fd7627e10b27ca",
       "IPY_MODEL_0633e526422442e09eb31970508c10b9",
       "IPY_MODEL_c447cf5571504d26ac64424aaeb61583"
      ],
      "layout": "IPY_MODEL_972e7cc3e253409da6b8de25d0d5e8bb"
     }
    },
    "f2c5d925aec043bb81d343610a016934": {
     "model_module": "@jupyter-widgets/controls",
     "model_module_version": "1.5.0",
     "model_name": "ProgressStyleModel",
     "state": {
      "_model_module": "@jupyter-widgets/controls",
      "_model_module_version": "1.5.0",
      "_model_name": "ProgressStyleModel",
      "_view_count": null,
      "_view_module": "@jupyter-widgets/base",
      "_view_module_version": "1.2.0",
      "_view_name": "StyleView",
      "bar_color": null,
      "description_width": ""
     }
    },
    "f452460548aa42fc8e62757ae9d254df": {
     "model_module": "@jupyter-widgets/controls",
     "model_module_version": "1.5.0",
     "model_name": "DescriptionStyleModel",
     "state": {
      "_model_module": "@jupyter-widgets/controls",
      "_model_module_version": "1.5.0",
      "_model_name": "DescriptionStyleModel",
      "_view_count": null,
      "_view_module": "@jupyter-widgets/base",
      "_view_module_version": "1.2.0",
      "_view_name": "StyleView",
      "description_width": ""
     }
    },
    "f735779920194b9284275ddfe8ce644b": {
     "model_module": "@jupyter-widgets/controls",
     "model_module_version": "1.5.0",
     "model_name": "FloatProgressModel",
     "state": {
      "_dom_classes": [],
      "_model_module": "@jupyter-widgets/controls",
      "_model_module_version": "1.5.0",
      "_model_name": "FloatProgressModel",
      "_view_count": null,
      "_view_module": "@jupyter-widgets/controls",
      "_view_module_version": "1.5.0",
      "_view_name": "ProgressView",
      "bar_style": "danger",
      "description": "",
      "description_tooltip": null,
      "layout": "IPY_MODEL_e9bd932fa62e4ea5844c1a5b69199e91",
      "max": 3443,
      "min": 0,
      "orientation": "horizontal",
      "style": "IPY_MODEL_53a8a255843e48ddaa273da32ccda138",
      "value": 201
     }
    },
    "fff029bc967e4678a3992e1fd0c404a2": {
     "model_module": "@jupyter-widgets/controls",
     "model_module_version": "1.5.0",
     "model_name": "ProgressStyleModel",
     "state": {
      "_model_module": "@jupyter-widgets/controls",
      "_model_module_version": "1.5.0",
      "_model_name": "ProgressStyleModel",
      "_view_count": null,
      "_view_module": "@jupyter-widgets/base",
      "_view_module_version": "1.2.0",
      "_view_name": "StyleView",
      "bar_color": null,
      "description_width": ""
     }
    }
   }
  }
 },
 "nbformat": 4,
 "nbformat_minor": 4
}
